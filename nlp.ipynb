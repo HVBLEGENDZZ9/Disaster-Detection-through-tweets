{
 "cells": [
  {
   "cell_type": "code",
   "execution_count": 2,
   "id": "b7480ed6",
   "metadata": {},
   "outputs": [],
   "source": [
    "import numpy as np\n",
    "import matplotlib.pyplot as plt\n",
    "import seaborn as sns\n",
    "import tensorflow as tf\n",
    "import pandas as pd"
   ]
  },
  {
   "cell_type": "code",
   "execution_count": 3,
   "id": "2570174b",
   "metadata": {},
   "outputs": [
    {
     "name": "stdout",
     "output_type": "stream",
     "text": [
      "2.7.0\n"
     ]
    }
   ],
   "source": [
    "print(tf.__version__)"
   ]
  },
  {
   "cell_type": "markdown",
   "id": "02fe4472",
   "metadata": {},
   "source": [
    "# GETTING OUR DATA"
   ]
  },
  {
   "cell_type": "code",
   "execution_count": 160,
   "id": "5a86ded2",
   "metadata": {},
   "outputs": [],
   "source": [
    "dftrain = pd.read_csv(\"train.csv\")\n",
    "dftest = pd.read_csv(\"test.csv\")"
   ]
  },
  {
   "cell_type": "code",
   "execution_count": 5,
   "id": "5783d612",
   "metadata": {},
   "outputs": [
    {
     "data": {
      "text/html": [
       "<div>\n",
       "<style scoped>\n",
       "    .dataframe tbody tr th:only-of-type {\n",
       "        vertical-align: middle;\n",
       "    }\n",
       "\n",
       "    .dataframe tbody tr th {\n",
       "        vertical-align: top;\n",
       "    }\n",
       "\n",
       "    .dataframe thead th {\n",
       "        text-align: right;\n",
       "    }\n",
       "</style>\n",
       "<table border=\"1\" class=\"dataframe\">\n",
       "  <thead>\n",
       "    <tr style=\"text-align: right;\">\n",
       "      <th></th>\n",
       "      <th>id</th>\n",
       "      <th>keyword</th>\n",
       "      <th>location</th>\n",
       "      <th>text</th>\n",
       "      <th>target</th>\n",
       "    </tr>\n",
       "  </thead>\n",
       "  <tbody>\n",
       "    <tr>\n",
       "      <th>0</th>\n",
       "      <td>1</td>\n",
       "      <td>NaN</td>\n",
       "      <td>NaN</td>\n",
       "      <td>Our Deeds are the Reason of this #earthquake M...</td>\n",
       "      <td>1</td>\n",
       "    </tr>\n",
       "    <tr>\n",
       "      <th>1</th>\n",
       "      <td>4</td>\n",
       "      <td>NaN</td>\n",
       "      <td>NaN</td>\n",
       "      <td>Forest fire near La Ronge Sask. Canada</td>\n",
       "      <td>1</td>\n",
       "    </tr>\n",
       "    <tr>\n",
       "      <th>2</th>\n",
       "      <td>5</td>\n",
       "      <td>NaN</td>\n",
       "      <td>NaN</td>\n",
       "      <td>All residents asked to 'shelter in place' are ...</td>\n",
       "      <td>1</td>\n",
       "    </tr>\n",
       "    <tr>\n",
       "      <th>3</th>\n",
       "      <td>6</td>\n",
       "      <td>NaN</td>\n",
       "      <td>NaN</td>\n",
       "      <td>13,000 people receive #wildfires evacuation or...</td>\n",
       "      <td>1</td>\n",
       "    </tr>\n",
       "    <tr>\n",
       "      <th>4</th>\n",
       "      <td>7</td>\n",
       "      <td>NaN</td>\n",
       "      <td>NaN</td>\n",
       "      <td>Just got sent this photo from Ruby #Alaska as ...</td>\n",
       "      <td>1</td>\n",
       "    </tr>\n",
       "  </tbody>\n",
       "</table>\n",
       "</div>"
      ],
      "text/plain": [
       "   id keyword location                                               text  \\\n",
       "0   1     NaN      NaN  Our Deeds are the Reason of this #earthquake M...   \n",
       "1   4     NaN      NaN             Forest fire near La Ronge Sask. Canada   \n",
       "2   5     NaN      NaN  All residents asked to 'shelter in place' are ...   \n",
       "3   6     NaN      NaN  13,000 people receive #wildfires evacuation or...   \n",
       "4   7     NaN      NaN  Just got sent this photo from Ruby #Alaska as ...   \n",
       "\n",
       "   target  \n",
       "0       1  \n",
       "1       1  \n",
       "2       1  \n",
       "3       1  \n",
       "4       1  "
      ]
     },
     "execution_count": 5,
     "metadata": {},
     "output_type": "execute_result"
    }
   ],
   "source": [
    "dftrain.head()"
   ]
  },
  {
   "cell_type": "code",
   "execution_count": 6,
   "id": "15332767",
   "metadata": {},
   "outputs": [
    {
     "data": {
      "text/html": [
       "<div>\n",
       "<style scoped>\n",
       "    .dataframe tbody tr th:only-of-type {\n",
       "        vertical-align: middle;\n",
       "    }\n",
       "\n",
       "    .dataframe tbody tr th {\n",
       "        vertical-align: top;\n",
       "    }\n",
       "\n",
       "    .dataframe thead th {\n",
       "        text-align: right;\n",
       "    }\n",
       "</style>\n",
       "<table border=\"1\" class=\"dataframe\">\n",
       "  <thead>\n",
       "    <tr style=\"text-align: right;\">\n",
       "      <th></th>\n",
       "      <th>id</th>\n",
       "      <th>keyword</th>\n",
       "      <th>location</th>\n",
       "      <th>text</th>\n",
       "      <th>target</th>\n",
       "    </tr>\n",
       "  </thead>\n",
       "  <tbody>\n",
       "    <tr>\n",
       "      <th>2644</th>\n",
       "      <td>3796</td>\n",
       "      <td>destruction</td>\n",
       "      <td>NaN</td>\n",
       "      <td>So you have a new weapon that can cause un-ima...</td>\n",
       "      <td>1</td>\n",
       "    </tr>\n",
       "    <tr>\n",
       "      <th>2227</th>\n",
       "      <td>3185</td>\n",
       "      <td>deluge</td>\n",
       "      <td>NaN</td>\n",
       "      <td>The f$&amp;amp;@ing things I do for #GISHWHES Just...</td>\n",
       "      <td>0</td>\n",
       "    </tr>\n",
       "    <tr>\n",
       "      <th>5448</th>\n",
       "      <td>7769</td>\n",
       "      <td>police</td>\n",
       "      <td>UK</td>\n",
       "      <td>DT @georgegalloway: RT @Galloway4Mayor: ÛÏThe...</td>\n",
       "      <td>1</td>\n",
       "    </tr>\n",
       "    <tr>\n",
       "      <th>132</th>\n",
       "      <td>191</td>\n",
       "      <td>aftershock</td>\n",
       "      <td>NaN</td>\n",
       "      <td>Aftershock back to school kick off was great. ...</td>\n",
       "      <td>0</td>\n",
       "    </tr>\n",
       "    <tr>\n",
       "      <th>6845</th>\n",
       "      <td>9810</td>\n",
       "      <td>trauma</td>\n",
       "      <td>Montgomery County, MD</td>\n",
       "      <td>in response to trauma Children of Addicts deve...</td>\n",
       "      <td>0</td>\n",
       "    </tr>\n",
       "  </tbody>\n",
       "</table>\n",
       "</div>"
      ],
      "text/plain": [
       "        id      keyword               location  \\\n",
       "2644  3796  destruction                    NaN   \n",
       "2227  3185       deluge                    NaN   \n",
       "5448  7769       police                     UK   \n",
       "132    191   aftershock                    NaN   \n",
       "6845  9810       trauma  Montgomery County, MD   \n",
       "\n",
       "                                                   text  target  \n",
       "2644  So you have a new weapon that can cause un-ima...       1  \n",
       "2227  The f$&amp;@ing things I do for #GISHWHES Just...       0  \n",
       "5448  DT @georgegalloway: RT @Galloway4Mayor: ÛÏThe...       1  \n",
       "132   Aftershock back to school kick off was great. ...       0  \n",
       "6845  in response to trauma Children of Addicts deve...       0  "
      ]
     },
     "execution_count": 6,
     "metadata": {},
     "output_type": "execute_result"
    }
   ],
   "source": [
    "dftrain = dftrain.sample(frac=1,random_state=42)\n",
    "dftrain.head()"
   ]
  },
  {
   "cell_type": "markdown",
   "id": "94e32efb",
   "metadata": {},
   "source": [
    "# BECOMING ONE WITH THE DATA"
   ]
  },
  {
   "cell_type": "code",
   "execution_count": 7,
   "id": "d5fc42a2",
   "metadata": {},
   "outputs": [
    {
     "name": "stdout",
     "output_type": "stream",
     "text": [
      "LENGTH OF THE TRAINING DATASET: 7613\n",
      "LENGTH OF THE TEST DATASET: 3263\n"
     ]
    }
   ],
   "source": [
    "print(f'LENGTH OF THE TRAINING DATASET: {len(dftrain)}')\n",
    "print(f'LENGTH OF THE TEST DATASET: {len(dftest)}')"
   ]
  },
  {
   "cell_type": "code",
   "execution_count": 8,
   "id": "324c65f3",
   "metadata": {},
   "outputs": [
    {
     "data": {
      "text/plain": [
       "0    4342\n",
       "1    3271\n",
       "Name: target, dtype: int64"
      ]
     },
     "execution_count": 8,
     "metadata": {},
     "output_type": "execute_result"
    }
   ],
   "source": [
    "dftrain[\"target\"].value_counts()"
   ]
  },
  {
   "cell_type": "code",
   "execution_count": 9,
   "id": "a3d7e372",
   "metadata": {},
   "outputs": [
    {
     "name": "stdout",
     "output_type": "stream",
     "text": [
      "THE TEXT IS: Thinking about getting a demo car with a friend and joining the demolition derby in kenosha\n",
      "THE LABEL FOR THE ABOVE TEXT IS: 0 NOT A DISASTER\n",
      "\n",
      "\n",
      "\n",
      " -----\n",
      "THE TEXT IS: Police Officer Wounded Suspect Dead After Exchanging Shots: Richmond police officer wounded suspect killed a... http://t.co/w0r8EAOKA0\n",
      "THE LABEL FOR THE ABOVE TEXT IS: 1 REAL DISASTER\n",
      "\n",
      "\n",
      "\n",
      " -----\n",
      "THE TEXT IS: Don't be the cause of your own self destruction\n",
      "THE LABEL FOR THE ABOVE TEXT IS: 0 NOT A DISASTER\n",
      "\n",
      "\n",
      "\n",
      " -----\n",
      "THE TEXT IS: #hot  Funtenna: hijacking computers to send data as sound waves [Black Hat 2015] http://t.co/UMgD92wLjA #prebreak #best\n",
      "THE LABEL FOR THE ABOVE TEXT IS: 1 REAL DISASTER\n",
      "\n",
      "\n",
      "\n",
      " -----\n",
      "THE TEXT IS: Cross-border terrorism: Pakistan caught red-handed again - The Times of India http://t.co/uiqsfgZoOx\n",
      "THE LABEL FOR THE ABOVE TEXT IS: 1 REAL DISASTER\n",
      "\n",
      "\n",
      "\n",
      " -----\n",
      "THE TEXT IS: #News : The Latest: More Homes Razed by Northern California Wildfire - New York Times http://t.co/5kBRZZmf8c #TAFS #FB100%\n",
      "THE LABEL FOR THE ABOVE TEXT IS: 1 REAL DISASTER\n",
      "\n",
      "\n",
      "\n",
      " -----\n",
      "THE TEXT IS: Washington Post - 4 dead dozens injured in Gaza blast near house leveled in summer war http://t.co/VjXa13n8Ap\n",
      "THE LABEL FOR THE ABOVE TEXT IS: 1 REAL DISASTER\n",
      "\n",
      "\n",
      "\n",
      " -----\n",
      "THE TEXT IS: Families to sue over Legionnaires: More than 40 families affected by the fatal outbreak of Legionnaires' disea... http://t.co/13W8CyukKZ\n",
      "THE LABEL FOR THE ABOVE TEXT IS: 1 REAL DISASTER\n",
      "\n",
      "\n",
      "\n",
      " -----\n",
      "THE TEXT IS: #Allah describes piling up #wealth thinking it would last #forever as the description of the people of #Hellfire in Surah Humaza. #Reflect\n",
      "THE LABEL FOR THE ABOVE TEXT IS: 0 NOT A DISASTER\n",
      "\n",
      "\n",
      "\n",
      " -----\n",
      "THE TEXT IS: hermancranston: WIRED : Reddit will now quarantine offensive content http://t.co/wvn6GrIyPq (http://t.co/Rei3PuWP84Û_ Û_\n",
      "THE LABEL FOR THE ABOVE TEXT IS: 0 NOT A DISASTER\n",
      "\n",
      "\n",
      "\n",
      " -----\n"
     ]
    }
   ],
   "source": [
    "import random\n",
    "rand_index = random.randint(0,len(dftrain)-1)\n",
    "for row in dftrain[[\"text\",\"target\"]][rand_index:rand_index+10].itertuples():\n",
    "    _,text,target = row #_ is for index(it basically means that we dont want to store the returned index in any variable)\n",
    "    print(f'THE TEXT IS: {text}')\n",
    "    print(f'THE LABEL FOR THE ABOVE TEXT IS: {target}',(\"REAL DISASTER\") if target==1 else (\"NOT A DISASTER\"))\n",
    "    print('\\n\\n\\n -----')\n",
    "    "
   ]
  },
  {
   "cell_type": "markdown",
   "id": "4c160dea",
   "metadata": {},
   "source": [
    "# SPLITTING INTO TRAIN AND VALIDATION DATASETS"
   ]
  },
  {
   "cell_type": "code",
   "execution_count": 10,
   "id": "f0fc8236",
   "metadata": {},
   "outputs": [],
   "source": [
    "from sklearn.model_selection import train_test_split"
   ]
  },
  {
   "cell_type": "code",
   "execution_count": 11,
   "id": "6133788e",
   "metadata": {},
   "outputs": [],
   "source": [
    "train_sentences,valid_sentences,train_labels,valid_labels = train_test_split(dftrain[\"text\"].to_numpy(),\n",
    "                                                                             dftrain[\"target\"].to_numpy(),\n",
    "                                                                             test_size=0.2,\n",
    "                                                                             random_state=42)"
   ]
  },
  {
   "cell_type": "code",
   "execution_count": 12,
   "id": "f1ead0b9",
   "metadata": {},
   "outputs": [
    {
     "data": {
      "text/plain": [
       "(6090, 1523)"
      ]
     },
     "execution_count": 12,
     "metadata": {},
     "output_type": "execute_result"
    }
   ],
   "source": [
    "len(train_sentences),len(valid_sentences)"
   ]
  },
  {
   "cell_type": "markdown",
   "id": "d5bb1d94",
   "metadata": {},
   "source": [
    "# CREATING [TEXT VECTORIZATION LAYER](https://www.tensorflow.org/api_docs/python/tf/keras/layers/TextVectorization)"
   ]
  },
  {
   "cell_type": "code",
   "execution_count": 13,
   "id": "e88ab480",
   "metadata": {},
   "outputs": [
    {
     "data": {
      "text/plain": [
       "15"
      ]
     },
     "execution_count": 13,
     "metadata": {},
     "output_type": "execute_result"
    }
   ],
   "source": [
    "# average length of tweets in the dataset\n",
    "avg_length = round(sum([len(i.split()) for i in train_sentences])/len(train_sentences))\n",
    "avg_length"
   ]
  },
  {
   "cell_type": "code",
   "execution_count": 14,
   "id": "f0d01753",
   "metadata": {},
   "outputs": [
    {
     "data": {
      "text/plain": [
       "90705"
      ]
     },
     "execution_count": 14,
     "metadata": {},
     "output_type": "execute_result"
    }
   ],
   "source": [
    "# total number of words in our dataset\n",
    "round(sum([len(i.split()) for i in train_sentences]))"
   ]
  },
  {
   "cell_type": "code",
   "execution_count": 15,
   "id": "c4aa13c0",
   "metadata": {},
   "outputs": [],
   "source": [
    "max_words = 10000 # total words in our vocabulary\n",
    "max_length = 15 # length of the tweet to consider"
   ]
  },
  {
   "cell_type": "code",
   "execution_count": 16,
   "id": "a92b76f8",
   "metadata": {},
   "outputs": [],
   "source": [
    "from tensorflow.keras.layers import TextVectorization"
   ]
  },
  {
   "cell_type": "code",
   "execution_count": 17,
   "id": "240840a5",
   "metadata": {},
   "outputs": [],
   "source": [
    "text_vect_layer = TextVectorization(max_tokens = max_words,\n",
    "                                    output_mode = \"int\",\n",
    "                                    output_sequence_length = max_length)"
   ]
  },
  {
   "cell_type": "code",
   "execution_count": 18,
   "id": "e554be24",
   "metadata": {},
   "outputs": [],
   "source": [
    "text_vect_layer.adapt(train_sentences)"
   ]
  },
  {
   "cell_type": "code",
   "execution_count": 19,
   "id": "fcc46894",
   "metadata": {},
   "outputs": [
    {
     "name": "stdout",
     "output_type": "stream",
     "text": [
      "ORIGINAL SENTENCE: \n",
      "This is the natural and unavoidable consequence of socialism everywhere it has been tried.\n",
      "http://t.co/BbDpnj8XSx F\n",
      "TEXT VECTORIZED OUTPUT: \n",
      "[  19    9    2  271    7 3027 3671    6 3127 1411   15   39   61 1009\n",
      " 3491]\n"
     ]
    }
   ],
   "source": [
    "# exploring the output of our text vectorization layer\n",
    "r = random.randint(0,len(train_sentences)-1)\n",
    "print(f'ORIGINAL SENTENCE: \\n{train_sentences[r]}')\n",
    "print(f'TEXT VECTORIZED OUTPUT: \\n{text_vect_layer(train_sentences[r])}')"
   ]
  },
  {
   "cell_type": "markdown",
   "id": "e9d3bf9a",
   "metadata": {},
   "source": [
    "# EXPLORING OUR VOCABULARY"
   ]
  },
  {
   "cell_type": "code",
   "execution_count": 20,
   "id": "5d9011e0",
   "metadata": {},
   "outputs": [
    {
     "data": {
      "text/plain": [
       "10000"
      ]
     },
     "execution_count": 20,
     "metadata": {},
     "output_type": "execute_result"
    }
   ],
   "source": [
    "words_in_vocab = text_vect_layer.get_vocabulary()\n",
    "most_common = words_in_vocab[:9]\n",
    "least_common = words_in_vocab[-9:]\n",
    "len(words_in_vocab)"
   ]
  },
  {
   "cell_type": "code",
   "execution_count": 21,
   "id": "47488843",
   "metadata": {},
   "outputs": [
    {
     "data": {
      "text/plain": [
       "['', '[UNK]', 'the', 'a', 'in', 'to', 'of', 'and', 'i']"
      ]
     },
     "execution_count": 21,
     "metadata": {},
     "output_type": "execute_result"
    }
   ],
   "source": [
    "most_common #['UNK'] means unknown, since our layer has OOV token(out of vocabulary)eg: #,! or some other symbols"
   ]
  },
  {
   "cell_type": "code",
   "execution_count": 22,
   "id": "79dfa207",
   "metadata": {},
   "outputs": [
    {
     "data": {
      "text/plain": [
       "['mineness',\n",
       " 'mineenjoyfire',\n",
       " 'mindset',\n",
       " 'mindless',\n",
       " 'minded',\n",
       " 'mindblowing',\n",
       " 'milne',\n",
       " 'milledgeville',\n",
       " 'millcityio']"
      ]
     },
     "execution_count": 22,
     "metadata": {},
     "output_type": "execute_result"
    }
   ],
   "source": [
    "least_common"
   ]
  },
  {
   "cell_type": "markdown",
   "id": "e54b37bd",
   "metadata": {},
   "source": [
    "# CREATING [EMBEDDING LAYER](https://www.tensorflow.org/api_docs/python/tf/keras/layers/Embedding)\n",
    "* input_dim: size of the vocabulary\n",
    "* input_length: length of the sequences\n",
    "* output_dim: size of the output matrix (usually a multiple of 8 eg. 8,16,128,etc.)"
   ]
  },
  {
   "cell_type": "code",
   "execution_count": 23,
   "id": "0a7396b8",
   "metadata": {},
   "outputs": [
    {
     "data": {
      "text/plain": [
       "<keras.layers.embeddings.Embedding at 0x1c6aa680310>"
      ]
     },
     "execution_count": 23,
     "metadata": {},
     "output_type": "execute_result"
    }
   ],
   "source": [
    "embedding_layer = tf.keras.layers.Embedding(input_dim = max_words,\n",
    "                                            input_length = max_length,\n",
    "                                            output_dim = 128)\n",
    "embedding_layer"
   ]
  },
  {
   "cell_type": "code",
   "execution_count": 24,
   "id": "2d2bc8d0",
   "metadata": {},
   "outputs": [
    {
     "data": {
      "text/plain": [
       "<tf.Tensor: shape=(15, 128), dtype=float32, numpy=\n",
       "array([[ 0.03444836,  0.04864522, -0.00724417, ...,  0.00154948,\n",
       "        -0.02113111,  0.00023873],\n",
       "       [-0.01101712,  0.02519188,  0.00549589, ...,  0.00552434,\n",
       "         0.03475556,  0.02523443],\n",
       "       [ 0.04161661,  0.00812791,  0.02180555, ...,  0.00765867,\n",
       "        -0.03451526, -0.00084474],\n",
       "       ...,\n",
       "       [-0.02913681,  0.00521258, -0.00063428, ..., -0.00573288,\n",
       "        -0.02505815, -0.04516473],\n",
       "       [ 0.03956198, -0.04485343,  0.03776437, ..., -0.04057055,\n",
       "        -0.01021559,  0.04447547],\n",
       "       [ 0.04167077, -0.03317765, -0.01853063, ...,  0.00145965,\n",
       "        -0.04080532, -0.03019362]], dtype=float32)>"
      ]
     },
     "execution_count": 24,
     "metadata": {},
     "output_type": "execute_result"
    }
   ],
   "source": [
    "#exploring the outputs of the embedding layer\n",
    "r = random.randint(0,len(train_sentences)-1)\n",
    "output = embedding_layer(text_vect_layer(train_sentences[r]))\n",
    "output"
   ]
  },
  {
   "cell_type": "code",
   "execution_count": 25,
   "id": "eb7b7a9d",
   "metadata": {},
   "outputs": [
    {
     "data": {
      "text/plain": [
       "<tf.Tensor: shape=(128,), dtype=float32, numpy=\n",
       "array([ 3.44483592e-02,  4.86452244e-02, -7.24416971e-03,  4.49999012e-02,\n",
       "       -1.96938645e-02, -3.04350387e-02,  2.40769275e-02, -1.57578476e-02,\n",
       "        1.22558847e-02,  1.10806599e-02,  7.45065138e-03,  1.38899945e-02,\n",
       "        1.14321336e-02, -2.71680206e-03, -2.20036395e-02,  1.88633092e-02,\n",
       "       -1.09168664e-02,  6.42314553e-05,  1.88246705e-02, -3.37535739e-02,\n",
       "       -2.17928644e-02, -3.10135242e-02,  3.40928920e-02,  5.56747988e-03,\n",
       "       -8.73624161e-03, -3.78175825e-03,  1.82912014e-02,  3.56566347e-02,\n",
       "       -3.43958624e-02,  4.65800501e-02, -3.84412706e-04,  3.58618237e-02,\n",
       "       -1.14396326e-02, -1.41988285e-02,  3.15286964e-03,  1.47016309e-02,\n",
       "       -1.84397325e-02, -2.39029061e-02, -2.47873664e-02, -3.38607915e-02,\n",
       "        1.97753944e-02, -4.00042906e-02, -3.11858580e-03,  1.60645284e-02,\n",
       "       -2.93135401e-02,  5.37934154e-03,  2.01000236e-02,  2.82634757e-02,\n",
       "       -1.98282301e-04, -1.14201903e-02,  3.79750244e-02,  1.69014446e-02,\n",
       "        4.22846563e-02, -8.25463608e-03, -4.02203202e-02, -1.83375105e-02,\n",
       "       -1.71987414e-02,  3.13557722e-02, -2.84408927e-02,  1.27939098e-02,\n",
       "       -2.55524404e-02, -1.35898590e-02,  4.18968461e-02,  3.17532085e-02,\n",
       "       -4.43302058e-02, -6.35361671e-03, -3.61368433e-02, -2.82442570e-02,\n",
       "        1.87830962e-02,  1.50870122e-02, -2.61658430e-02,  3.06103714e-02,\n",
       "       -3.12179681e-02,  1.83953382e-02, -2.60186195e-02, -1.64603479e-02,\n",
       "        4.85090874e-02,  1.48287304e-02,  2.44034864e-02, -4.39734943e-02,\n",
       "       -4.54845428e-02,  1.07867643e-03,  3.46072651e-02,  2.06294544e-02,\n",
       "        4.42142002e-02,  1.30865462e-02, -1.61561146e-02,  1.80002190e-02,\n",
       "        2.47805007e-02, -3.95214073e-02,  1.58168189e-02,  1.76897384e-02,\n",
       "        2.82946341e-02, -2.77171265e-02,  3.23052332e-03,  2.98245996e-03,\n",
       "        3.29517759e-02, -9.45116207e-03, -3.11411750e-02,  4.98206057e-02,\n",
       "       -3.05158980e-02, -4.03287634e-02, -4.86153029e-02,  8.96393135e-03,\n",
       "        2.99883597e-02, -2.40423214e-02, -3.44651826e-02, -7.70498440e-03,\n",
       "       -4.18012254e-02,  8.02478939e-03,  4.10193205e-03, -7.48009607e-03,\n",
       "       -2.95734536e-02,  3.94630097e-02,  1.77014209e-02, -9.30023193e-03,\n",
       "       -1.61477551e-02, -2.18215231e-02, -2.26315018e-02, -4.01888117e-02,\n",
       "        1.45900361e-02, -8.22464377e-03,  3.18255164e-02, -9.60887596e-03,\n",
       "       -1.05518699e-02,  1.54948235e-03, -2.11311113e-02,  2.38727778e-04],\n",
       "      dtype=float32)>"
      ]
     },
     "execution_count": 25,
     "metadata": {},
     "output_type": "execute_result"
    }
   ],
   "source": [
    "output[0] #embedding for one word"
   ]
  },
  {
   "cell_type": "markdown",
   "id": "1f833ad6",
   "metadata": {},
   "source": [
    "# TESTING THE FOLLOWING MODELS FOR NLP: \n",
    "* #### MODEL1 : SKLEARN TF-IDF ENCODER\n",
    "* #### MODEL2 : FEED FORWARD NEURAL NETWORK (DENSE)\n",
    "* #### MODEL3 : LSTM\n",
    "* #### MODEL4 : GRU\n",
    "* #### MODEL5 : BIDIRECTIONAL LSTM\n",
    "* #### MODEL6 : 1-D CONVOLUTIONAL LAYER\n",
    "* #### MODEL7 : PRETAINED FEATURE EXTRACTOR MODEL FROM TENSORFLOW HUB\n",
    "* #### MODEL8 : PRETAINED FEATURE EXTRACTOR MODEL FROM TENSORFLOW HUB AND TRAINED ONLY ON 10% OF DATA"
   ]
  },
  {
   "cell_type": "markdown",
   "id": "f0776b76",
   "metadata": {},
   "source": [
    "# MODEL1 : SKLEARN TF-IDF ENCODER"
   ]
  },
  {
   "cell_type": "code",
   "execution_count": 26,
   "id": "7150150e",
   "metadata": {},
   "outputs": [],
   "source": [
    "from sklearn.feature_extraction.text import TfidfVectorizer\n",
    "from sklearn.naive_bayes import MultinomialNB\n",
    "from sklearn.pipeline import Pipeline"
   ]
  },
  {
   "cell_type": "code",
   "execution_count": 27,
   "id": "db3ee5da",
   "metadata": {},
   "outputs": [],
   "source": [
    "model1 = Pipeline([\n",
    "    (\"tfidf\", TfidfVectorizer()),\n",
    "    (\"clf\", MultinomialNB())\n",
    "])"
   ]
  },
  {
   "cell_type": "code",
   "execution_count": 28,
   "id": "792955cc",
   "metadata": {},
   "outputs": [
    {
     "data": {
      "text/plain": [
       "Pipeline(steps=[('tfidf', TfidfVectorizer()), ('clf', MultinomialNB())])"
      ]
     },
     "execution_count": 28,
     "metadata": {},
     "output_type": "execute_result"
    }
   ],
   "source": [
    "model1.fit(train_sentences,train_labels)"
   ]
  },
  {
   "cell_type": "code",
   "execution_count": 29,
   "id": "a7c0d02d",
   "metadata": {},
   "outputs": [
    {
     "data": {
      "text/plain": [
       "0.799080761654629"
      ]
     },
     "execution_count": 29,
     "metadata": {},
     "output_type": "execute_result"
    }
   ],
   "source": [
    "model1.score(valid_sentences,valid_labels)"
   ]
  },
  {
   "cell_type": "code",
   "execution_count": 30,
   "id": "2871b042",
   "metadata": {},
   "outputs": [],
   "source": [
    "def show_classification_report(y_true,y_pred):\n",
    "    from sklearn.metrics import accuracy_score, precision_recall_fscore_support\n",
    "    acc = accuracy_score(y_pred,y_true)\n",
    "    precision, recall, fscore,_ = precision_recall_fscore_support(y_true,y_pred,average=\"weighted\")\n",
    "    metrics = {\n",
    "        \"accuracy\": acc,\n",
    "        \"precision\": precision,\n",
    "        \"recall\": recall,\n",
    "        \"fscore\": fscore\n",
    "    }\n",
    "    return metrics"
   ]
  },
  {
   "cell_type": "code",
   "execution_count": 31,
   "id": "4bd0a437",
   "metadata": {},
   "outputs": [
    {
     "data": {
      "text/plain": [
       "{'accuracy': 0.799080761654629,\n",
       " 'precision': 0.8146358812834972,\n",
       " 'recall': 0.799080761654629,\n",
       " 'fscore': 0.7920155324845473}"
      ]
     },
     "execution_count": 31,
     "metadata": {},
     "output_type": "execute_result"
    }
   ],
   "source": [
    "model1_report = show_classification_report(valid_labels,model1.predict(valid_sentences))\n",
    "model1_report"
   ]
  },
  {
   "cell_type": "markdown",
   "id": "83a50dd0",
   "metadata": {},
   "source": [
    "# MODEL2 : FEED FORWARD NEURAL NETWORK (DENSE)"
   ]
  },
  {
   "cell_type": "code",
   "execution_count": 32,
   "id": "92b83c69",
   "metadata": {},
   "outputs": [],
   "source": [
    "inputs = tf.keras.Input(shape = (1,),dtype=\"string\")\n",
    "x = text_vect_layer(inputs)\n",
    "x = embedding_layer(x)\n",
    "x = tf.keras.layers.GlobalMaxPooling1D()(x) #globalaveragepooling layer to condense the output\n",
    "outputs = tf.keras.layers.Dense(1,activation=\"sigmoid\")(x)\n",
    "model2 = tf.keras.models.Model(inputs,outputs)"
   ]
  },
  {
   "cell_type": "code",
   "execution_count": 33,
   "id": "4fe4de12",
   "metadata": {},
   "outputs": [
    {
     "name": "stdout",
     "output_type": "stream",
     "text": [
      "Model: \"model\"\n",
      "_________________________________________________________________\n",
      " Layer (type)                Output Shape              Param #   \n",
      "=================================================================\n",
      " input_1 (InputLayer)        [(None, 1)]               0         \n",
      "                                                                 \n",
      " text_vectorization (TextVec  (None, 15)               0         \n",
      " torization)                                                     \n",
      "                                                                 \n",
      " embedding (Embedding)       (None, 15, 128)           1280000   \n",
      "                                                                 \n",
      " global_max_pooling1d (Globa  (None, 128)              0         \n",
      " lMaxPooling1D)                                                  \n",
      "                                                                 \n",
      " dense (Dense)               (None, 1)                 129       \n",
      "                                                                 \n",
      "=================================================================\n",
      "Total params: 1,280,129\n",
      "Trainable params: 1,280,129\n",
      "Non-trainable params: 0\n",
      "_________________________________________________________________\n"
     ]
    }
   ],
   "source": [
    "model2.summary()"
   ]
  },
  {
   "cell_type": "code",
   "execution_count": 34,
   "id": "8da62a87",
   "metadata": {},
   "outputs": [],
   "source": [
    "model2.compile(loss = \"binary_crossentropy\",\n",
    "              optimizer = tf.keras.optimizers.Adam(),\n",
    "              metrics = \"accuracy\")"
   ]
  },
  {
   "cell_type": "code",
   "execution_count": 35,
   "id": "f1dd04e6",
   "metadata": {},
   "outputs": [
    {
     "name": "stdout",
     "output_type": "stream",
     "text": [
      "Epoch 1/5\n",
      "191/191 [==============================] - 3s 7ms/step - loss: 0.6491 - accuracy: 0.6361 - val_loss: 0.5886 - val_accuracy: 0.7656\n",
      "Epoch 2/5\n",
      "191/191 [==============================] - 1s 5ms/step - loss: 0.4893 - accuracy: 0.8268 - val_loss: 0.4828 - val_accuracy: 0.7846\n",
      "Epoch 3/5\n",
      "191/191 [==============================] - 1s 5ms/step - loss: 0.3527 - accuracy: 0.8742 - val_loss: 0.4569 - val_accuracy: 0.7912\n",
      "Epoch 4/5\n",
      "191/191 [==============================] - 1s 5ms/step - loss: 0.2641 - accuracy: 0.9071 - val_loss: 0.4592 - val_accuracy: 0.7945\n",
      "Epoch 5/5\n",
      "191/191 [==============================] - 1s 5ms/step - loss: 0.2011 - accuracy: 0.9350 - val_loss: 0.4723 - val_accuracy: 0.7997\n"
     ]
    }
   ],
   "source": [
    "from helperfuncs import tensor_board_callback\n",
    "history2 = model2.fit(train_sentences,train_labels,\n",
    "                     epochs = 5,\n",
    "                     validation_data = (valid_sentences,valid_labels),\n",
    "                     callbacks = [tensor_board_callback(\"C:\\\\Users\\\\Harshvardhan Bhosale\\\\OneDrive\\\\Desktop\\\\nlp\",\"model2\")])"
   ]
  },
  {
   "cell_type": "code",
   "execution_count": 36,
   "id": "42effb4e",
   "metadata": {},
   "outputs": [
    {
     "data": {
      "text/plain": [
       "(array([[0.41941515],\n",
       "        [0.9123423 ],\n",
       "        [0.99131423],\n",
       "        ...,\n",
       "        [0.21779887],\n",
       "        [0.961898  ],\n",
       "        [0.998139  ]], dtype=float32),\n",
       " (1523, 1))"
      ]
     },
     "execution_count": 36,
     "metadata": {},
     "output_type": "execute_result"
    }
   ],
   "source": [
    "pred = model2.predict(valid_sentences)\n",
    "pred,pred.shape"
   ]
  },
  {
   "cell_type": "code",
   "execution_count": 37,
   "id": "936c8700",
   "metadata": {},
   "outputs": [
    {
     "data": {
      "text/plain": [
       "(<tf.Tensor: shape=(1523,), dtype=float32, numpy=array([0., 1., 1., ..., 0., 1., 1.], dtype=float32)>,\n",
       " TensorShape([1523]))"
      ]
     },
     "execution_count": 37,
     "metadata": {},
     "output_type": "execute_result"
    }
   ],
   "source": [
    "pred = tf.round(tf.squeeze(pred))\n",
    "pred,pred.shape"
   ]
  },
  {
   "cell_type": "code",
   "execution_count": 38,
   "id": "93781c98",
   "metadata": {},
   "outputs": [
    {
     "data": {
      "text/plain": [
       "{'accuracy': 0.7997373604727511,\n",
       " 'precision': 0.8142940551172227,\n",
       " 'recall': 0.7997373604727511,\n",
       " 'fscore': 0.8027716306279735}"
      ]
     },
     "execution_count": 38,
     "metadata": {},
     "output_type": "execute_result"
    }
   ],
   "source": [
    "model2_report = show_classification_report(pred,valid_labels)\n",
    "model2_report"
   ]
  },
  {
   "cell_type": "code",
   "execution_count": 39,
   "id": "184f718c",
   "metadata": {},
   "outputs": [
    {
     "data": {
      "text/plain": [
       "({'accuracy': 0.799080761654629,\n",
       "  'precision': 0.8146358812834972,\n",
       "  'recall': 0.799080761654629,\n",
       "  'fscore': 0.7920155324845473},\n",
       " {'accuracy': 0.7997373604727511,\n",
       "  'precision': 0.8142940551172227,\n",
       "  'recall': 0.7997373604727511,\n",
       "  'fscore': 0.8027716306279735})"
      ]
     },
     "execution_count": 39,
     "metadata": {},
     "output_type": "execute_result"
    }
   ],
   "source": [
    "model1_report,model2_report"
   ]
  },
  {
   "cell_type": "markdown",
   "id": "7423dacb",
   "metadata": {},
   "source": [
    "### VISIUALIZING WORD EMBEDDING USING [TENSORFLOW EMBEDDING PROJECTOR](http://projector.tensorflow.org/)"
   ]
  },
  {
   "cell_type": "code",
   "execution_count": 40,
   "id": "791d91d6",
   "metadata": {},
   "outputs": [
    {
     "name": "stdout",
     "output_type": "stream",
     "text": [
      "input_1\n",
      "text_vectorization\n",
      "embedding\n",
      "global_max_pooling1d\n",
      "dense\n"
     ]
    }
   ],
   "source": [
    "for layer in model2.layers:\n",
    "    print(layer.name)"
   ]
  },
  {
   "cell_type": "code",
   "execution_count": 41,
   "id": "af933b78",
   "metadata": {},
   "outputs": [],
   "source": [
    "#CODE TO DOWNLOAD THE WORD VECTORS AND METADATA\n",
    "# import io\n",
    "# weights = model2.get_layer(\"embedding\").get_weights()[0]\n",
    "# out_v = io.open('vectors.tsv', 'w', encoding='utf-8')\n",
    "# out_m = io.open('metadata.tsv', 'w', encoding='utf-8')\n",
    "\n",
    "# for index, word in enumerate(words_in_vocab):\n",
    "#   if index == 0:\n",
    "#     continue  # skip 0, it's padding.\n",
    "#   vec = weights[index]\n",
    "#   out_v.write('\\t'.join([str(x) for x in vec]) + \"\\n\")\n",
    "#   out_m.write(word + \"\\n\")\n",
    "# out_v.close()\n",
    "# out_m.close()"
   ]
  },
  {
   "cell_type": "markdown",
   "id": "eceae6c4",
   "metadata": {},
   "source": [
    "# MODEL3 : [LSTM](https://www.tensorflow.org/api_docs/python/tf/keras/layers/LSTM)"
   ]
  },
  {
   "cell_type": "code",
   "execution_count": 42,
   "id": "2ebeee8b",
   "metadata": {},
   "outputs": [
    {
     "name": "stdout",
     "output_type": "stream",
     "text": [
      "Model: \"model_1\"\n",
      "_________________________________________________________________\n",
      " Layer (type)                Output Shape              Param #   \n",
      "=================================================================\n",
      " input_2 (InputLayer)        [(None, 1)]               0         \n",
      "                                                                 \n",
      " text_vectorization (TextVec  (None, 15)               0         \n",
      " torization)                                                     \n",
      "                                                                 \n",
      " embedding (Embedding)       (None, 15, 128)           1280000   \n",
      "                                                                 \n",
      " lstm (LSTM)                 (None, 15, 64)            49408     \n",
      "                                                                 \n",
      " global_average_pooling1d (G  (None, 64)               0         \n",
      " lobalAveragePooling1D)                                          \n",
      "                                                                 \n",
      " dense_1 (Dense)             (None, 1)                 65        \n",
      "                                                                 \n",
      "=================================================================\n",
      "Total params: 1,329,473\n",
      "Trainable params: 1,329,473\n",
      "Non-trainable params: 0\n",
      "_________________________________________________________________\n"
     ]
    }
   ],
   "source": [
    "inputs = tf.keras.Input(shape=(1,),dtype=\"string\")\n",
    "x = text_vect_layer(inputs)\n",
    "x = embedding_layer(x)\n",
    "x = tf.keras.layers.LSTM(64,return_sequences=True)(x) #default parameters of this layer are pretty good\n",
    "x = tf.keras.layers.GlobalAveragePooling1D()(x)\n",
    "outputs = tf.keras.layers.Dense(1,activation=\"sigmoid\")(x)\n",
    "model3 = tf.keras.models.Model(inputs,outputs)\n",
    "model3.summary()"
   ]
  },
  {
   "cell_type": "code",
   "execution_count": 43,
   "id": "961b57ae",
   "metadata": {},
   "outputs": [],
   "source": [
    "model3.compile(loss=\"binary_crossentropy\",optimizer = tf.keras.optimizers.Adam(),metrics=\"accuracy\")"
   ]
  },
  {
   "cell_type": "code",
   "execution_count": 44,
   "id": "2f33551a",
   "metadata": {},
   "outputs": [
    {
     "name": "stdout",
     "output_type": "stream",
     "text": [
      "Epoch 1/5\n",
      "191/191 [==============================] - 5s 10ms/step - loss: 0.4027 - accuracy: 0.8154 - val_loss: 0.4711 - val_accuracy: 0.7925\n",
      "Epoch 2/5\n",
      "191/191 [==============================] - 1s 8ms/step - loss: 0.2480 - accuracy: 0.9016 - val_loss: 0.5117 - val_accuracy: 0.7866\n",
      "Epoch 3/5\n",
      "191/191 [==============================] - 2s 8ms/step - loss: 0.1753 - accuracy: 0.9366 - val_loss: 0.6288 - val_accuracy: 0.7748\n",
      "Epoch 4/5\n",
      "191/191 [==============================] - 1s 8ms/step - loss: 0.1261 - accuracy: 0.9555 - val_loss: 0.8410 - val_accuracy: 0.7564\n",
      "Epoch 5/5\n",
      "191/191 [==============================] - 1s 8ms/step - loss: 0.1060 - accuracy: 0.9612 - val_loss: 0.7765 - val_accuracy: 0.7807\n"
     ]
    }
   ],
   "source": [
    "history3 = model3.fit(train_sentences,train_labels,\n",
    "                     epochs = 5,\n",
    "                     validation_data = (valid_sentences,valid_labels),\n",
    "                     callbacks = [tensor_board_callback(\"C:\\\\Users\\\\Harshvardhan Bhosale\\\\OneDrive\\\\Desktop\\\\nlp\",\"model3\")])"
   ]
  },
  {
   "cell_type": "code",
   "execution_count": 45,
   "id": "5473fc50",
   "metadata": {},
   "outputs": [],
   "source": [
    "y_pred = model3.predict(valid_sentences)"
   ]
  },
  {
   "cell_type": "code",
   "execution_count": 46,
   "id": "355d558d",
   "metadata": {},
   "outputs": [
    {
     "data": {
      "text/plain": [
       "<tf.Tensor: shape=(1523,), dtype=float32, numpy=array([0., 1., 1., ..., 1., 1., 1.], dtype=float32)>"
      ]
     },
     "execution_count": 46,
     "metadata": {},
     "output_type": "execute_result"
    }
   ],
   "source": [
    "y_pred = tf.round(tf.squeeze(y_pred))\n",
    "y_pred"
   ]
  },
  {
   "cell_type": "code",
   "execution_count": 47,
   "id": "0f70e58e",
   "metadata": {},
   "outputs": [
    {
     "data": {
      "text/plain": [
       "{'accuracy': 0.7806959947472094,\n",
       " 'precision': 0.7828413926132761,\n",
       " 'recall': 0.7806959947472094,\n",
       " 'fscore': 0.7773313366017781}"
      ]
     },
     "execution_count": 47,
     "metadata": {},
     "output_type": "execute_result"
    }
   ],
   "source": [
    "model3_report = show_classification_report(valid_labels,y_pred)\n",
    "model3_report"
   ]
  },
  {
   "cell_type": "markdown",
   "id": "b2778b4a",
   "metadata": {},
   "source": [
    "# MODEL4 : [GRU](https://www.tensorflow.org/api_docs/python/tf/keras/layers/GRU) "
   ]
  },
  {
   "cell_type": "code",
   "execution_count": 48,
   "id": "b66944b7",
   "metadata": {},
   "outputs": [
    {
     "name": "stdout",
     "output_type": "stream",
     "text": [
      "Model: \"model_2\"\n",
      "_________________________________________________________________\n",
      " Layer (type)                Output Shape              Param #   \n",
      "=================================================================\n",
      " input_3 (InputLayer)        [(None, 1)]               0         \n",
      "                                                                 \n",
      " text_vectorization (TextVec  (None, 15)               0         \n",
      " torization)                                                     \n",
      "                                                                 \n",
      " embedding (Embedding)       (None, 15, 128)           1280000   \n",
      "                                                                 \n",
      " gru (GRU)                   (None, 15, 64)            37248     \n",
      "                                                                 \n",
      " global_average_pooling1d_1   (None, 64)               0         \n",
      " (GlobalAveragePooling1D)                                        \n",
      "                                                                 \n",
      " dense_2 (Dense)             (None, 1)                 65        \n",
      "                                                                 \n",
      "=================================================================\n",
      "Total params: 1,317,313\n",
      "Trainable params: 1,317,313\n",
      "Non-trainable params: 0\n",
      "_________________________________________________________________\n"
     ]
    }
   ],
   "source": [
    "inputs = tf.keras.Input(shape=(1,),dtype=\"string\")\n",
    "x = text_vect_layer(inputs)\n",
    "x = embedding_layer(x)\n",
    "x = tf.keras.layers.GRU(64,return_sequences=True)(x)\n",
    "x = tf.keras.layers.GlobalAveragePooling1D()(x)\n",
    "outputs = tf.keras.layers.Dense(1,activation=\"sigmoid\")(x)\n",
    "model4 = tf.keras.models.Model(inputs,outputs)\n",
    "model4.summary()"
   ]
  },
  {
   "cell_type": "code",
   "execution_count": 49,
   "id": "bf01ad2c",
   "metadata": {},
   "outputs": [],
   "source": [
    "model4.compile(loss=\"binary_crossentropy\",optimizer = tf.keras.optimizers.Adam(),metrics=\"accuracy\")"
   ]
  },
  {
   "cell_type": "code",
   "execution_count": 50,
   "id": "d33d6a39",
   "metadata": {},
   "outputs": [
    {
     "name": "stdout",
     "output_type": "stream",
     "text": [
      "Epoch 1/5\n",
      "191/191 [==============================] - 3s 10ms/step - loss: 0.1920 - accuracy: 0.9297 - val_loss: 0.7533 - val_accuracy: 0.7630\n",
      "Epoch 2/5\n",
      "191/191 [==============================] - 1s 7ms/step - loss: 0.0953 - accuracy: 0.9675 - val_loss: 0.7952 - val_accuracy: 0.7676\n",
      "Epoch 3/5\n",
      "191/191 [==============================] - 1s 7ms/step - loss: 0.0837 - accuracy: 0.9693 - val_loss: 0.8393 - val_accuracy: 0.7702\n",
      "Epoch 4/5\n",
      "191/191 [==============================] - 1s 7ms/step - loss: 0.0675 - accuracy: 0.9741 - val_loss: 1.0445 - val_accuracy: 0.7511\n",
      "Epoch 5/5\n",
      "191/191 [==============================] - 1s 7ms/step - loss: 0.0597 - accuracy: 0.9764 - val_loss: 1.2128 - val_accuracy: 0.7472\n"
     ]
    }
   ],
   "source": [
    "history4 = model4.fit(train_sentences,train_labels,\n",
    "                     epochs = 5,\n",
    "                     validation_data = (valid_sentences,valid_labels),\n",
    "                     callbacks = [tensor_board_callback(\"C:\\\\Users\\\\Harshvardhan Bhosale\\\\OneDrive\\\\Desktop\\\\nlp\",\"model4\")])"
   ]
  },
  {
   "cell_type": "code",
   "execution_count": 51,
   "id": "dffb214b",
   "metadata": {},
   "outputs": [
    {
     "data": {
      "text/plain": [
       "<tf.Tensor: shape=(1523,), dtype=float32, numpy=array([0., 1., 1., ..., 1., 1., 1.], dtype=float32)>"
      ]
     },
     "execution_count": 51,
     "metadata": {},
     "output_type": "execute_result"
    }
   ],
   "source": [
    "y_pred = model4.predict(valid_sentences)\n",
    "y_pred = tf.round(tf.squeeze(y_pred))\n",
    "y_pred"
   ]
  },
  {
   "cell_type": "code",
   "execution_count": 52,
   "id": "2a9b3aee",
   "metadata": {},
   "outputs": [
    {
     "data": {
      "text/plain": [
       "{'accuracy': 0.747209455022981,\n",
       " 'precision': 0.746289244406328,\n",
       " 'recall': 0.747209455022981,\n",
       " 'fscore': 0.7464359404819112}"
      ]
     },
     "execution_count": 52,
     "metadata": {},
     "output_type": "execute_result"
    }
   ],
   "source": [
    "model4_report = show_classification_report(valid_labels,y_pred)\n",
    "model4_report"
   ]
  },
  {
   "cell_type": "markdown",
   "id": "5b7ec77e",
   "metadata": {},
   "source": [
    "# MODEL5 : BIDERECTIONAL LSTM"
   ]
  },
  {
   "cell_type": "code",
   "execution_count": 53,
   "id": "b4507d4f",
   "metadata": {},
   "outputs": [
    {
     "name": "stdout",
     "output_type": "stream",
     "text": [
      "Model: \"model_3\"\n",
      "_________________________________________________________________\n",
      " Layer (type)                Output Shape              Param #   \n",
      "=================================================================\n",
      " input_4 (InputLayer)        [(None, 1)]               0         \n",
      "                                                                 \n",
      " text_vectorization (TextVec  (None, 15)               0         \n",
      " torization)                                                     \n",
      "                                                                 \n",
      " embedding (Embedding)       (None, 15, 128)           1280000   \n",
      "                                                                 \n",
      " bidirectional (Bidirectiona  (None, 128)              74496     \n",
      " l)                                                              \n",
      "                                                                 \n",
      " dense_3 (Dense)             (None, 1)                 129       \n",
      "                                                                 \n",
      "=================================================================\n",
      "Total params: 1,354,625\n",
      "Trainable params: 1,354,625\n",
      "Non-trainable params: 0\n",
      "_________________________________________________________________\n"
     ]
    }
   ],
   "source": [
    "inputs = tf.keras.Input(shape=(1,),dtype=\"string\")\n",
    "x = text_vect_layer(inputs)\n",
    "x = embedding_layer(x)\n",
    "x = tf.keras.layers.Bidirectional(tf.keras.layers.GRU(64))(x)\n",
    "outputs = tf.keras.layers.Dense(1,activation=\"sigmoid\")(x)\n",
    "model5 = tf.keras.models.Model(inputs,outputs)\n",
    "model5.summary()"
   ]
  },
  {
   "cell_type": "code",
   "execution_count": 54,
   "id": "b47fee4d",
   "metadata": {},
   "outputs": [],
   "source": [
    "model5.compile(loss=\"binary_crossentropy\",optimizer = tf.keras.optimizers.Adam(),metrics=\"accuracy\")"
   ]
  },
  {
   "cell_type": "code",
   "execution_count": 55,
   "id": "5816e399",
   "metadata": {},
   "outputs": [
    {
     "name": "stdout",
     "output_type": "stream",
     "text": [
      "Epoch 1/5\n",
      "191/191 [==============================] - 4s 12ms/step - loss: 0.1509 - accuracy: 0.9458 - val_loss: 0.8857 - val_accuracy: 0.7682\n",
      "Epoch 2/5\n",
      "191/191 [==============================] - 1s 8ms/step - loss: 0.0673 - accuracy: 0.9750 - val_loss: 0.8457 - val_accuracy: 0.7597\n",
      "Epoch 3/5\n",
      "191/191 [==============================] - 1s 8ms/step - loss: 0.0549 - accuracy: 0.9783 - val_loss: 1.0699 - val_accuracy: 0.7682\n",
      "Epoch 4/5\n",
      "191/191 [==============================] - 2s 8ms/step - loss: 0.0492 - accuracy: 0.9791 - val_loss: 1.0823 - val_accuracy: 0.7544\n",
      "Epoch 5/5\n",
      "191/191 [==============================] - 2s 8ms/step - loss: 0.0412 - accuracy: 0.9814 - val_loss: 1.3264 - val_accuracy: 0.7695\n"
     ]
    }
   ],
   "source": [
    "history5 = model5.fit(train_sentences,train_labels,\n",
    "                     epochs = 5,\n",
    "                     validation_data = (valid_sentences,valid_labels),\n",
    "                     callbacks = [tensor_board_callback(\"C:\\\\Users\\\\Harshvardhan Bhosale\\\\OneDrive\\\\Desktop\\\\nlp\",\"model5\")])"
   ]
  },
  {
   "cell_type": "code",
   "execution_count": 56,
   "id": "b1fc5db6",
   "metadata": {},
   "outputs": [
    {
     "data": {
      "text/plain": [
       "<tf.Tensor: shape=(1523,), dtype=float32, numpy=array([0., 1., 1., ..., 1., 1., 1.], dtype=float32)>"
      ]
     },
     "execution_count": 56,
     "metadata": {},
     "output_type": "execute_result"
    }
   ],
   "source": [
    "y_pred = model5.predict(valid_sentences)\n",
    "y_pred = tf.round(tf.squeeze(y_pred))\n",
    "y_pred"
   ]
  },
  {
   "cell_type": "code",
   "execution_count": 57,
   "id": "233bc4ba",
   "metadata": {},
   "outputs": [
    {
     "data": {
      "text/plain": [
       "{'accuracy': 0.7695338148391333,\n",
       " 'precision': 0.7724074633725272,\n",
       " 'recall': 0.7695338148391333,\n",
       " 'fscore': 0.7653093670217364}"
      ]
     },
     "execution_count": 57,
     "metadata": {},
     "output_type": "execute_result"
    }
   ],
   "source": [
    "model5_report = show_classification_report(valid_labels,y_pred)\n",
    "model5_report"
   ]
  },
  {
   "cell_type": "markdown",
   "id": "8328b72b",
   "metadata": {},
   "source": [
    "# MODEL6 : CONV1D MODEL"
   ]
  },
  {
   "cell_type": "code",
   "execution_count": 58,
   "id": "9f028813",
   "metadata": {},
   "outputs": [
    {
     "name": "stdout",
     "output_type": "stream",
     "text": [
      "Model: \"model_4\"\n",
      "_________________________________________________________________\n",
      " Layer (type)                Output Shape              Param #   \n",
      "=================================================================\n",
      " input_5 (InputLayer)        [(None, 1)]               0         \n",
      "                                                                 \n",
      " text_vectorization (TextVec  (None, 15)               0         \n",
      " torization)                                                     \n",
      "                                                                 \n",
      " embedding (Embedding)       (None, 15, 128)           1280000   \n",
      "                                                                 \n",
      " conv1d (Conv1D)             (None, 15, 32)            16416     \n",
      "                                                                 \n",
      " global_max_pooling1d_1 (Glo  (None, 32)               0         \n",
      " balMaxPooling1D)                                                \n",
      "                                                                 \n",
      " dense_4 (Dense)             (None, 1)                 33        \n",
      "                                                                 \n",
      "=================================================================\n",
      "Total params: 1,296,449\n",
      "Trainable params: 1,296,449\n",
      "Non-trainable params: 0\n",
      "_________________________________________________________________\n"
     ]
    }
   ],
   "source": [
    "inputs = tf.keras.Input(shape=(1,),dtype=\"string\")\n",
    "x = text_vect_layer(inputs)\n",
    "x = embedding_layer(x)\n",
    "x = tf.keras.layers.Conv1D(filters = 32,\n",
    "                           kernel_size = 4,\n",
    "                           padding = \"same\")(x)\n",
    "x = tf.keras.layers.GlobalMaxPooling1D()(x)\n",
    "outputs = tf.keras.layers.Dense(1,activation=\"sigmoid\")(x)\n",
    "model6 = tf.keras.models.Model(inputs,outputs)\n",
    "model6.summary()"
   ]
  },
  {
   "cell_type": "code",
   "execution_count": 59,
   "id": "0f5e02f8",
   "metadata": {},
   "outputs": [],
   "source": [
    "model6.compile(loss=\"binary_crossentropy\",optimizer = tf.keras.optimizers.Adam(),metrics=\"accuracy\")"
   ]
  },
  {
   "cell_type": "code",
   "execution_count": 60,
   "id": "c7154418",
   "metadata": {},
   "outputs": [
    {
     "name": "stdout",
     "output_type": "stream",
     "text": [
      "Epoch 1/5\n",
      "191/191 [==============================] - 4s 7ms/step - loss: 0.1812 - accuracy: 0.9448 - val_loss: 0.7271 - val_accuracy: 0.7610\n",
      "Epoch 2/5\n",
      "191/191 [==============================] - 1s 6ms/step - loss: 0.0730 - accuracy: 0.9741 - val_loss: 0.8889 - val_accuracy: 0.7544\n",
      "Epoch 3/5\n",
      "191/191 [==============================] - 1s 6ms/step - loss: 0.0554 - accuracy: 0.9783 - val_loss: 0.9775 - val_accuracy: 0.7695\n",
      "Epoch 4/5\n",
      "191/191 [==============================] - 1s 6ms/step - loss: 0.0470 - accuracy: 0.9818 - val_loss: 1.0528 - val_accuracy: 0.7610\n",
      "Epoch 5/5\n",
      "191/191 [==============================] - 1s 6ms/step - loss: 0.0465 - accuracy: 0.9819 - val_loss: 1.0466 - val_accuracy: 0.7544\n"
     ]
    }
   ],
   "source": [
    "from helperfuncs import tensor_board_callback\n",
    "history6 = model6.fit(train_sentences,train_labels,\n",
    "                     epochs = 5,\n",
    "                     validation_data = (valid_sentences,valid_labels),\n",
    "                     callbacks = [tensor_board_callback(\"C:\\\\Users\\\\Harshvardhan Bhosale\\\\OneDrive\\\\Desktop\\\\nlp\",\"model6\")])"
   ]
  },
  {
   "cell_type": "code",
   "execution_count": 61,
   "id": "6ec57c2d",
   "metadata": {},
   "outputs": [
    {
     "data": {
      "text/plain": [
       "<tf.Tensor: shape=(1523,), dtype=float32, numpy=array([0., 1., 1., ..., 1., 1., 1.], dtype=float32)>"
      ]
     },
     "execution_count": 61,
     "metadata": {},
     "output_type": "execute_result"
    }
   ],
   "source": [
    "y_pred = model6.predict(valid_sentences)\n",
    "y_pred = tf.round(tf.squeeze(y_pred))\n",
    "y_pred"
   ]
  },
  {
   "cell_type": "code",
   "execution_count": 62,
   "id": "8e880156",
   "metadata": {},
   "outputs": [
    {
     "data": {
      "text/plain": [
       "{'accuracy': 0.7544320420223244,\n",
       " 'precision': 0.7539959830174011,\n",
       " 'recall': 0.7544320420223244,\n",
       " 'fscore': 0.7541667967465202}"
      ]
     },
     "execution_count": 62,
     "metadata": {},
     "output_type": "execute_result"
    }
   ],
   "source": [
    "model6_report = show_classification_report(valid_labels,y_pred)\n",
    "model6_report"
   ]
  },
  {
   "cell_type": "markdown",
   "id": "fe38b251",
   "metadata": {},
   "source": [
    "# MODEL7 :  PRETAINED FEATURE EXTRACTOR MODEL FROM TENSORFLOW HUB ([PRETAINED WORD EMBEDDING](https://tfhub.dev/google/universal-sentence-encoder/4))"
   ]
  },
  {
   "cell_type": "code",
   "execution_count": 63,
   "id": "078a7b8a",
   "metadata": {},
   "outputs": [],
   "source": [
    "import tensorflow_hub as hub\n",
    "embed = hub.load(\"C:\\\\Users\\\\Harshvardhan Bhosale\\\\OneDrive\\\\Desktop\\\\nlp\\\\universal-sentence-encoder_4.tar\")"
   ]
  },
  {
   "cell_type": "code",
   "execution_count": 64,
   "id": "d131b534",
   "metadata": {},
   "outputs": [],
   "source": [
    "embeddings = embed([\n",
    "    \"The quick brown fox jumps over the lazy dog.\",\n",
    "    \"I am a sentence for which I would like to get its embedding\"])"
   ]
  },
  {
   "cell_type": "code",
   "execution_count": 65,
   "id": "3b7a16f8",
   "metadata": {},
   "outputs": [
    {
     "name": "stdout",
     "output_type": "stream",
     "text": [
      "tf.Tensor(\n",
      "[-0.03133019 -0.06338634 -0.01607501 -0.01034895 -0.04650102  0.03723156\n",
      "  0.00591583  0.07174398  0.01666447  0.06090763  0.06655259  0.02370512\n",
      "  0.00057647  0.05684322  0.02416169 -0.00533627  0.04704772  0.01921571\n",
      "  0.07682553  0.00566961 -0.07528221 -0.01713724 -0.07502711  0.07637348\n",
      " -0.05437959 -0.00138911 -0.01830184 -0.0467204  -0.04724139  0.02706783\n",
      "  0.03233341  0.0553706   0.03370956 -0.01370662  0.00552706 -0.08226925\n",
      "  0.01419506  0.06827912  0.01832053 -0.02147872  0.04149668 -0.02027399\n",
      " -0.00601058  0.02448247 -0.0884009  -0.02566542 -0.03832615 -0.05610626\n",
      "  0.04681282  0.03203126], shape=(50,), dtype=float32)\n"
     ]
    }
   ],
   "source": [
    "print(embeddings[0][:50])"
   ]
  },
  {
   "cell_type": "code",
   "execution_count": 66,
   "id": "3aff9362",
   "metadata": {},
   "outputs": [
    {
     "name": "stdout",
     "output_type": "stream",
     "text": [
      "(2, 512)\n"
     ]
    }
   ],
   "source": [
    "print(embeddings.shape)"
   ]
  },
  {
   "cell_type": "code",
   "execution_count": 67,
   "id": "abe71075",
   "metadata": {},
   "outputs": [],
   "source": [
    "embed = hub.KerasLayer(\"C:\\\\Users\\\\Harshvardhan Bhosale\\\\OneDrive\\\\Desktop\\\\nlp\\\\universal-sentence-encoder_4.tar\",\n",
    "                      input_shape=[],\n",
    "                       dtype = tf.string,\n",
    "                      trainable = False)"
   ]
  },
  {
   "cell_type": "code",
   "execution_count": 68,
   "id": "55738ec8",
   "metadata": {},
   "outputs": [
    {
     "name": "stdout",
     "output_type": "stream",
     "text": [
      "Model: \"sequential\"\n",
      "_________________________________________________________________\n",
      " Layer (type)                Output Shape              Param #   \n",
      "=================================================================\n",
      " keras_layer (KerasLayer)    (None, 512)               256797824 \n",
      "                                                                 \n",
      " dense_5 (Dense)             (None, 64)                32832     \n",
      "                                                                 \n",
      " dense_6 (Dense)             (None, 1)                 65        \n",
      "                                                                 \n",
      "=================================================================\n",
      "Total params: 256,830,721\n",
      "Trainable params: 32,897\n",
      "Non-trainable params: 256,797,824\n",
      "_________________________________________________________________\n"
     ]
    }
   ],
   "source": [
    "model7 = tf.keras.Sequential([\n",
    "    embed,\n",
    "    tf.keras.layers.Dense(64,activation=\"relu\"),\n",
    "    tf.keras.layers.Dense(1,activation=\"sigmoid\")\n",
    "])\n",
    "model7.summary()"
   ]
  },
  {
   "cell_type": "code",
   "execution_count": 69,
   "id": "befc1c46",
   "metadata": {},
   "outputs": [],
   "source": [
    "model7.compile(loss=\"binary_crossentropy\",optimizer = tf.keras.optimizers.Adam(),metrics=\"accuracy\")"
   ]
  },
  {
   "cell_type": "code",
   "execution_count": 70,
   "id": "18177865",
   "metadata": {},
   "outputs": [
    {
     "name": "stdout",
     "output_type": "stream",
     "text": [
      "Epoch 1/5\n",
      "191/191 [==============================] - 5s 17ms/step - loss: 0.5083 - accuracy: 0.7908 - val_loss: 0.4524 - val_accuracy: 0.7925\n",
      "Epoch 2/5\n",
      "191/191 [==============================] - 3s 15ms/step - loss: 0.4131 - accuracy: 0.8136 - val_loss: 0.4441 - val_accuracy: 0.7938\n",
      "Epoch 3/5\n",
      "191/191 [==============================] - 3s 14ms/step - loss: 0.3983 - accuracy: 0.8212 - val_loss: 0.4414 - val_accuracy: 0.8017\n",
      "Epoch 4/5\n",
      "191/191 [==============================] - 3s 14ms/step - loss: 0.3902 - accuracy: 0.8286 - val_loss: 0.4395 - val_accuracy: 0.8050\n",
      "Epoch 5/5\n",
      "191/191 [==============================] - 3s 14ms/step - loss: 0.3838 - accuracy: 0.8291 - val_loss: 0.4378 - val_accuracy: 0.8089\n"
     ]
    }
   ],
   "source": [
    "from helperfuncs import tensor_board_callback\n",
    "history7 = model7.fit(train_sentences,train_labels,\n",
    "                     epochs = 5,\n",
    "                     validation_data = (valid_sentences,valid_labels),\n",
    "                     callbacks = [tensor_board_callback(\"C:\\\\Users\\\\Harshvardhan Bhosale\\\\OneDrive\\\\Desktop\\\\nlp\",\"model7\")])"
   ]
  },
  {
   "cell_type": "code",
   "execution_count": 71,
   "id": "a1923108",
   "metadata": {},
   "outputs": [
    {
     "data": {
      "text/plain": [
       "{'accuracy': 0.8089297439264609,\n",
       " 'precision': 0.8084424462780744,\n",
       " 'recall': 0.8089297439264609,\n",
       " 'fscore': 0.8083879035926637}"
      ]
     },
     "execution_count": 71,
     "metadata": {},
     "output_type": "execute_result"
    }
   ],
   "source": [
    "y_pred = model7.predict(valid_sentences)\n",
    "y_pred = tf.round(tf.squeeze(y_pred))\n",
    "model7_report = show_classification_report(valid_labels,y_pred)\n",
    "model7_report"
   ]
  },
  {
   "cell_type": "markdown",
   "id": "9bb62afe",
   "metadata": {},
   "source": [
    "# MODEL8 : PRETAINED FEATURE EXTRACTOR MODEL FROM TENSORFLOW HUB AND TRAINED ONLY ON 10% OF DATA"
   ]
  },
  {
   "cell_type": "code",
   "execution_count": 72,
   "id": "7cd0c52f",
   "metadata": {},
   "outputs": [],
   "source": [
    "# PREPARING THE 10% DATASET\n",
    "len(train_sentences)\n",
    "train = train_sentences[:740]\n",
    "labels = train_labels[:740]"
   ]
  },
  {
   "cell_type": "code",
   "execution_count": 73,
   "id": "ebb946ef",
   "metadata": {},
   "outputs": [],
   "source": [
    "train10,valid10,label10,vlabel10 = train_test_split(train,labels,test_size = 0.2)"
   ]
  },
  {
   "cell_type": "code",
   "execution_count": 74,
   "id": "7f3c82e7",
   "metadata": {},
   "outputs": [
    {
     "data": {
      "text/plain": [
       "(592, 148)"
      ]
     },
     "execution_count": 74,
     "metadata": {},
     "output_type": "execute_result"
    }
   ],
   "source": [
    "len(train10),len(valid10)"
   ]
  },
  {
   "cell_type": "code",
   "execution_count": 75,
   "id": "83777757",
   "metadata": {},
   "outputs": [
    {
     "name": "stdout",
     "output_type": "stream",
     "text": [
      "Model: \"sequential_1\"\n",
      "_________________________________________________________________\n",
      " Layer (type)                Output Shape              Param #   \n",
      "=================================================================\n",
      " keras_layer (KerasLayer)    (None, 512)               256797824 \n",
      "                                                                 \n",
      " dense_7 (Dense)             (None, 64)                32832     \n",
      "                                                                 \n",
      " dense_8 (Dense)             (None, 1)                 65        \n",
      "                                                                 \n",
      "=================================================================\n",
      "Total params: 256,830,721\n",
      "Trainable params: 32,897\n",
      "Non-trainable params: 256,797,824\n",
      "_________________________________________________________________\n"
     ]
    }
   ],
   "source": [
    "model8 = tf.keras.Sequential([\n",
    "    embed,\n",
    "    tf.keras.layers.Dense(64,activation=\"relu\"),\n",
    "    tf.keras.layers.Dense(1,activation=\"sigmoid\")\n",
    "])\n",
    "model8.summary()"
   ]
  },
  {
   "cell_type": "code",
   "execution_count": 76,
   "id": "41021de2",
   "metadata": {},
   "outputs": [],
   "source": [
    "model8.compile(loss=\"binary_crossentropy\",optimizer = tf.keras.optimizers.Adam(),metrics=\"accuracy\")"
   ]
  },
  {
   "cell_type": "code",
   "execution_count": 80,
   "id": "c8a9ed83",
   "metadata": {},
   "outputs": [
    {
     "name": "stdout",
     "output_type": "stream",
     "text": [
      "Epoch 1/5\n",
      "24/24 [==============================] - 1s 48ms/step - loss: 0.2933 - accuracy: 0.8932 - val_loss: 0.4614 - val_accuracy: 0.7958\n",
      "Epoch 2/5\n",
      "24/24 [==============================] - 1s 36ms/step - loss: 0.2804 - accuracy: 0.9014 - val_loss: 0.4676 - val_accuracy: 0.7938\n",
      "Epoch 3/5\n",
      "24/24 [==============================] - 1s 35ms/step - loss: 0.2684 - accuracy: 0.9027 - val_loss: 0.4722 - val_accuracy: 0.7905\n",
      "Epoch 4/5\n",
      "24/24 [==============================] - 1s 37ms/step - loss: 0.2570 - accuracy: 0.9095 - val_loss: 0.4808 - val_accuracy: 0.7905\n",
      "Epoch 5/5\n",
      "24/24 [==============================] - 1s 36ms/step - loss: 0.2467 - accuracy: 0.9122 - val_loss: 0.4869 - val_accuracy: 0.7899\n"
     ]
    }
   ],
   "source": [
    "from helperfuncs import tensor_board_callback\n",
    "history8 = model8.fit(train,labels,\n",
    "                     epochs = 5,\n",
    "                     validation_data = (valid_sentences,valid_labels),\n",
    "                     callbacks = [tensor_board_callback(\"C:\\\\Users\\\\Harshvardhan Bhosale\\\\OneDrive\\\\Desktop\\\\nlp\",\"model8\")])"
   ]
  },
  {
   "cell_type": "code",
   "execution_count": 82,
   "id": "743cacfa",
   "metadata": {},
   "outputs": [
    {
     "data": {
      "text/plain": [
       "<tf.Tensor: shape=(1523,), dtype=float32, numpy=array([0., 1., 1., ..., 1., 0., 1.], dtype=float32)>"
      ]
     },
     "execution_count": 82,
     "metadata": {},
     "output_type": "execute_result"
    }
   ],
   "source": [
    "y_pred = model8.predict(valid_sentences)\n",
    "y_pred = tf.round(tf.squeeze(y_pred))\n",
    "y_pred"
   ]
  },
  {
   "cell_type": "code",
   "execution_count": 83,
   "id": "850795f0",
   "metadata": {},
   "outputs": [
    {
     "data": {
      "text/plain": [
       "{'accuracy': 0.7898883782009193,\n",
       " 'precision': 0.7896358950547268,\n",
       " 'recall': 0.7898883782009193,\n",
       " 'fscore': 0.7897401375194602}"
      ]
     },
     "execution_count": 83,
     "metadata": {},
     "output_type": "execute_result"
    }
   ],
   "source": [
    "model8_report = show_classification_report(valid_labels,y_pred)\n",
    "model8_report"
   ]
  },
  {
   "cell_type": "markdown",
   "id": "26c3b21e",
   "metadata": {},
   "source": [
    "# VISUALIZING THE PERFORMANCE OF ALL OUR MODELS"
   ]
  },
  {
   "cell_type": "code",
   "execution_count": 93,
   "id": "e77eedfa",
   "metadata": {},
   "outputs": [
    {
     "data": {
      "text/html": [
       "<div>\n",
       "<style scoped>\n",
       "    .dataframe tbody tr th:only-of-type {\n",
       "        vertical-align: middle;\n",
       "    }\n",
       "\n",
       "    .dataframe tbody tr th {\n",
       "        vertical-align: top;\n",
       "    }\n",
       "\n",
       "    .dataframe thead th {\n",
       "        text-align: right;\n",
       "    }\n",
       "</style>\n",
       "<table border=\"1\" class=\"dataframe\">\n",
       "  <thead>\n",
       "    <tr style=\"text-align: right;\">\n",
       "      <th></th>\n",
       "      <th>accuracy</th>\n",
       "      <th>precision</th>\n",
       "      <th>recall</th>\n",
       "      <th>fscore</th>\n",
       "    </tr>\n",
       "  </thead>\n",
       "  <tbody>\n",
       "    <tr>\n",
       "      <th>BASELINE1</th>\n",
       "      <td>0.799081</td>\n",
       "      <td>0.814636</td>\n",
       "      <td>0.799081</td>\n",
       "      <td>0.792016</td>\n",
       "    </tr>\n",
       "    <tr>\n",
       "      <th>FEEDFORWARDNET2</th>\n",
       "      <td>0.799737</td>\n",
       "      <td>0.814294</td>\n",
       "      <td>0.799737</td>\n",
       "      <td>0.802772</td>\n",
       "    </tr>\n",
       "    <tr>\n",
       "      <th>LSTM3</th>\n",
       "      <td>0.780696</td>\n",
       "      <td>0.782841</td>\n",
       "      <td>0.780696</td>\n",
       "      <td>0.777331</td>\n",
       "    </tr>\n",
       "    <tr>\n",
       "      <th>GRU4</th>\n",
       "      <td>0.747209</td>\n",
       "      <td>0.746289</td>\n",
       "      <td>0.747209</td>\n",
       "      <td>0.746436</td>\n",
       "    </tr>\n",
       "    <tr>\n",
       "      <th>BIDIRECTIONAL5</th>\n",
       "      <td>0.769534</td>\n",
       "      <td>0.772407</td>\n",
       "      <td>0.769534</td>\n",
       "      <td>0.765309</td>\n",
       "    </tr>\n",
       "    <tr>\n",
       "      <th>CONV1D6</th>\n",
       "      <td>0.754432</td>\n",
       "      <td>0.753996</td>\n",
       "      <td>0.754432</td>\n",
       "      <td>0.754167</td>\n",
       "    </tr>\n",
       "    <tr>\n",
       "      <th>PRETRAINEDUSE</th>\n",
       "      <td>0.808930</td>\n",
       "      <td>0.808442</td>\n",
       "      <td>0.808930</td>\n",
       "      <td>0.808388</td>\n",
       "    </tr>\n",
       "    <tr>\n",
       "      <th>10%PRETRAINEDUSE</th>\n",
       "      <td>0.789888</td>\n",
       "      <td>0.789636</td>\n",
       "      <td>0.789888</td>\n",
       "      <td>0.789740</td>\n",
       "    </tr>\n",
       "  </tbody>\n",
       "</table>\n",
       "</div>"
      ],
      "text/plain": [
       "                  accuracy  precision    recall    fscore\n",
       "BASELINE1         0.799081   0.814636  0.799081  0.792016\n",
       "FEEDFORWARDNET2   0.799737   0.814294  0.799737  0.802772\n",
       "LSTM3             0.780696   0.782841  0.780696  0.777331\n",
       "GRU4              0.747209   0.746289  0.747209  0.746436\n",
       "BIDIRECTIONAL5    0.769534   0.772407  0.769534  0.765309\n",
       "CONV1D6           0.754432   0.753996  0.754432  0.754167\n",
       "PRETRAINEDUSE     0.808930   0.808442  0.808930  0.808388\n",
       "10%PRETRAINEDUSE  0.789888   0.789636  0.789888  0.789740"
      ]
     },
     "execution_count": 93,
     "metadata": {},
     "output_type": "execute_result"
    }
   ],
   "source": [
    "import pandas as pd\n",
    "model_reports = pd.DataFrame({\"BASELINE1\": model1_report,\n",
    "                              \"FEEDFORWARDNET2\": model2_report,\n",
    "                              \"LSTM3\":model3_report,\n",
    "                              \"GRU4\":model4_report,\n",
    "                              \"BIDIRECTIONAL5\":model5_report,\n",
    "                              \"CONV1D6\":model6_report,\n",
    "                              \"PRETRAINEDUSE\": model7_report,\n",
    "                              \"10%PRETRAINEDUSE\":model8_report})\n",
    "model_reports = model_reports.transpose()\n",
    "model_reports"
   ]
  },
  {
   "cell_type": "code",
   "execution_count": 96,
   "id": "2dd45391",
   "metadata": {},
   "outputs": [
    {
     "data": {
      "text/plain": [
       "<matplotlib.legend.Legend at 0x1c91eba4970>"
      ]
     },
     "execution_count": 96,
     "metadata": {},
     "output_type": "execute_result"
    },
    {
     "data": {
      "image/png": "[encoded data removed]",
      "text/plain": [
       "<Figure size 1080x864 with 1 Axes>"
      ]
     },
     "metadata": {
      "needs_background": "light"
     },
     "output_type": "display_data"
    }
   ],
   "source": [
    "model_reports.plot(kind=\"bar\",figsize=(15,12)).legend(bbox_to_anchor=(1.0,1.0))"
   ]
  },
  {
   "cell_type": "code",
   "execution_count": 101,
   "id": "6777205d",
   "metadata": {},
   "outputs": [
    {
     "data": {
      "text/plain": [
       "<AxesSubplot:>"
      ]
     },
     "execution_count": 101,
     "metadata": {},
     "output_type": "execute_result"
    },
    {
     "data": {
      "image/png": "[encoded data removed]",
      "text/plain": [
       "<Figure size 1080x864 with 1 Axes>"
      ]
     },
     "metadata": {
      "needs_background": "light"
     },
     "output_type": "display_data"
    }
   ],
   "source": [
    "model_reports[\"fscore\"].sort_values(ascending=False).plot(kind=\"bar\",figsize=(15,12))"
   ]
  },
  {
   "cell_type": "markdown",
   "id": "c34dfdbe",
   "metadata": {},
   "source": [
    "# VISUALIZING THE PERFORMANCE OF THE MODELS USING TENSORBOARD"
   ]
  },
  {
   "cell_type": "code",
   "execution_count": 105,
   "id": "d902552e",
   "metadata": {},
   "outputs": [
    {
     "name": "stdout",
     "output_type": "stream",
     "text": [
      "^C\n"
     ]
    }
   ],
   "source": [
    "! tensorboard dev upload --logdir ./model_logs/ \\\n",
    " --name \"NLP MODELS\" \\\n",
    " --description \"COMPARING THE PERFORMANCES OF 8 MODELS ON KAGGLE TWEET CLASSIFICATION DATASET\" \\\n",
    " --one_shot"
   ]
  },
  {
   "cell_type": "markdown",
   "id": "74065ba7",
   "metadata": {},
   "source": [
    "[LINK FOR THE EXPERIMENTS](https://tensorboard.dev/experiment/khYJ69rxQA25MvWHLNnVqQ/)"
   ]
  },
  {
   "cell_type": "code",
   "execution_count": 106,
   "id": "be3a69f4",
   "metadata": {},
   "outputs": [
    {
     "name": "stdout",
     "output_type": "stream",
     "text": [
      "https://tensorboard.dev/experiment/khYJ69rxQA25MvWHLNnVqQ/\n",
      "\tName                 NLP MODELS\n",
      "\tDescription          COMPARING THE PERFORMANCE OF 8 MODELS ON THE KAGGLE TWEETS DATASET\n",
      "\tId                   khYJ69rxQA25MvWHLNnVqQ\n",
      "\tCreated              2021-11-24 15:45:06 (6 minutes ago)\n",
      "\tUpdated              2021-11-24 15:45:23 (6 minutes ago)\n",
      "\tRuns                 14\n",
      "\tTags                 5\n",
      "\tScalars              210\n",
      "\tTensor bytes         0\n",
      "\tBinary object bytes  2895042\n",
      "https://tensorboard.dev/experiment/QN9c5BvVQ6G36E9uYvy3Mw/\n",
      "\tName                 comparing the performance of 4 models\n",
      "\tDescription          fine tuning, without fine tuning and both with data augumentation\n",
      "\tId                   QN9c5BvVQ6G36E9uYvy3Mw\n",
      "\tCreated              2021-11-03 17:31:31\n",
      "\tUpdated              2021-11-03 17:31:35\n",
      "\tRuns                 8\n",
      "\tTags                 5\n",
      "\tScalars              132\n",
      "\tTensor bytes         0\n",
      "\tBinary object bytes  3386563\n",
      "https://tensorboard.dev/experiment/oD2aJ139SpmOtocwyTokNg/\n",
      "\tName                 RESNETV2_50 VS EFFICIENTB0\n",
      "\tDescription          USING TENSORBOARD TO COMPARE THE PEERFORMANCES OF OUR TENSORFLOW HUB FEATURE EXTRACTION MODELS\n",
      "\tId                   oD2aJ139SpmOtocwyTokNg\n",
      "\tCreated              2021-10-29 20:44:41\n",
      "\tUpdated              2021-10-29 20:44:46\n",
      "\tRuns                 4\n",
      "\tTags                 5\n",
      "\tScalars              60\n",
      "\tTensor bytes         0\n",
      "\tBinary object bytes  5962163\n"
     ]
    },
    {
     "name": "stderr",
     "output_type": "stream",
     "text": [
      "Total: 3 experiment(s)\n"
     ]
    }
   ],
   "source": [
    "! tensorboard dev list"
   ]
  },
  {
   "cell_type": "markdown",
   "id": "78d3f968",
   "metadata": {},
   "source": [
    "# SAVING THE BEST PERFORMING MODEL"
   ]
  },
  {
   "cell_type": "code",
   "execution_count": 108,
   "id": "c963b012",
   "metadata": {},
   "outputs": [
    {
     "name": "stdout",
     "output_type": "stream",
     "text": [
      "INFO:tensorflow:Assets written to: best_model_outof8\\assets\n"
     ]
    }
   ],
   "source": [
    "#model7 is the best model\n",
    "model7.save(\"best_model_outof8\")"
   ]
  },
  {
   "cell_type": "markdown",
   "id": "2edb3e60",
   "metadata": {},
   "source": [
    "# VISUALIZING THE WRONG DECISIONS WITH HIGHEST PROBABILITIES OF THE BEST MODEL"
   ]
  },
  {
   "cell_type": "code",
   "execution_count": 162,
   "id": "aed20a92",
   "metadata": {},
   "outputs": [
    {
     "data": {
      "text/plain": [
       "<tf.Tensor: shape=(1523,), dtype=float32, numpy=array([0., 1., 1., ..., 0., 1., 1.], dtype=float32)>"
      ]
     },
     "execution_count": 162,
     "metadata": {},
     "output_type": "execute_result"
    }
   ],
   "source": [
    "pred_probs = model7.predict(valid_sentences)\n",
    "pred = tf.round(tf.squeeze(pred_probs))\n",
    "pred"
   ]
  },
  {
   "cell_type": "code",
   "execution_count": 163,
   "id": "c2e1cb03",
   "metadata": {},
   "outputs": [],
   "source": [
    "wrong_probs = pred_probs[pred!=valid_labels]\n",
    "wrong_sentences = valid_sentences[pred!=valid_labels]\n",
    "target = valid_labels[pred!=valid_labels]\n",
    "wrong_pred = pred[pred!=valid_labels]"
   ]
  },
  {
   "cell_type": "code",
   "execution_count": 164,
   "id": "6d41f8dc",
   "metadata": {},
   "outputs": [
    {
     "data": {
      "text/plain": [
       "(291, 291, 1, 2, (291, 1))"
      ]
     },
     "execution_count": 164,
     "metadata": {},
     "output_type": "execute_result"
    }
   ],
   "source": [
    "len(wrong_probs),len(wrong_sentences),wrong_sentences.ndim,wrong_probs.ndim,wrong_probs.shape"
   ]
  },
  {
   "cell_type": "code",
   "execution_count": 165,
   "id": "b3d4db2b",
   "metadata": {},
   "outputs": [
    {
     "data": {
      "text/plain": [
       "(291,)"
      ]
     },
     "execution_count": 165,
     "metadata": {},
     "output_type": "execute_result"
    }
   ],
   "source": [
    "wrong_probs = tf.squeeze(wrong_probs).numpy()\n",
    "wrong_probs.shape"
   ]
  },
  {
   "cell_type": "code",
   "execution_count": 166,
   "id": "bdca37e4",
   "metadata": {},
   "outputs": [
    {
     "data": {
      "text/html": [
       "<div>\n",
       "<style scoped>\n",
       "    .dataframe tbody tr th:only-of-type {\n",
       "        vertical-align: middle;\n",
       "    }\n",
       "\n",
       "    .dataframe tbody tr th {\n",
       "        vertical-align: top;\n",
       "    }\n",
       "\n",
       "    .dataframe thead th {\n",
       "        text-align: right;\n",
       "    }\n",
       "</style>\n",
       "<table border=\"1\" class=\"dataframe\">\n",
       "  <thead>\n",
       "    <tr style=\"text-align: right;\">\n",
       "      <th></th>\n",
       "      <th>wrong_sentences</th>\n",
       "      <th>probs</th>\n",
       "      <th>target</th>\n",
       "      <th>pred</th>\n",
       "    </tr>\n",
       "  </thead>\n",
       "  <tbody>\n",
       "    <tr>\n",
       "      <th>0</th>\n",
       "      <td>FedEx no longer to transport bioterror germs i...</td>\n",
       "      <td>0.860922</td>\n",
       "      <td>0</td>\n",
       "      <td>1.0</td>\n",
       "    </tr>\n",
       "    <tr>\n",
       "      <th>1</th>\n",
       "      <td>@camilacabello97 Internally and externally scr...</td>\n",
       "      <td>0.147763</td>\n",
       "      <td>1</td>\n",
       "      <td>0.0</td>\n",
       "    </tr>\n",
       "    <tr>\n",
       "      <th>2</th>\n",
       "      <td>@RedCoatJackpot *As it was typical for them th...</td>\n",
       "      <td>0.687946</td>\n",
       "      <td>0</td>\n",
       "      <td>1.0</td>\n",
       "    </tr>\n",
       "    <tr>\n",
       "      <th>3</th>\n",
       "      <td>k_matako_bot: Breaking news! Unconfirmed! I ju...</td>\n",
       "      <td>0.629336</td>\n",
       "      <td>0</td>\n",
       "      <td>1.0</td>\n",
       "    </tr>\n",
       "    <tr>\n",
       "      <th>4</th>\n",
       "      <td>there's this person &amp;amp; they reckon when you...</td>\n",
       "      <td>0.529321</td>\n",
       "      <td>0</td>\n",
       "      <td>1.0</td>\n",
       "    </tr>\n",
       "  </tbody>\n",
       "</table>\n",
       "</div>"
      ],
      "text/plain": [
       "                                     wrong_sentences     probs  target  pred\n",
       "0  FedEx no longer to transport bioterror germs i...  0.860922       0   1.0\n",
       "1  @camilacabello97 Internally and externally scr...  0.147763       1   0.0\n",
       "2  @RedCoatJackpot *As it was typical for them th...  0.687946       0   1.0\n",
       "3  k_matako_bot: Breaking news! Unconfirmed! I ju...  0.629336       0   1.0\n",
       "4  there's this person &amp; they reckon when you...  0.529321       0   1.0"
      ]
     },
     "execution_count": 166,
     "metadata": {},
     "output_type": "execute_result"
    }
   ],
   "source": [
    "dict = {'wrong_sentences':wrong_sentences,\n",
    "        'probs' : wrong_probs,\n",
    "        'target':target,\n",
    "        'pred' : wrong_pred}\n",
    "wrong_df = pd.DataFrame(dict)\n",
    "wrong_df.head()"
   ]
  },
  {
   "cell_type": "code",
   "execution_count": 167,
   "id": "c27f712a",
   "metadata": {},
   "outputs": [
    {
     "data": {
      "text/html": [
       "<div>\n",
       "<style scoped>\n",
       "    .dataframe tbody tr th:only-of-type {\n",
       "        vertical-align: middle;\n",
       "    }\n",
       "\n",
       "    .dataframe tbody tr th {\n",
       "        vertical-align: top;\n",
       "    }\n",
       "\n",
       "    .dataframe thead th {\n",
       "        text-align: right;\n",
       "    }\n",
       "</style>\n",
       "<table border=\"1\" class=\"dataframe\">\n",
       "  <thead>\n",
       "    <tr style=\"text-align: right;\">\n",
       "      <th></th>\n",
       "      <th>wrong_sentences</th>\n",
       "      <th>probs</th>\n",
       "      <th>target</th>\n",
       "      <th>pred</th>\n",
       "    </tr>\n",
       "  </thead>\n",
       "  <tbody>\n",
       "    <tr>\n",
       "      <th>164</th>\n",
       "      <td>@adorableappple No reported flooding po in the...</td>\n",
       "      <td>0.973612</td>\n",
       "      <td>0</td>\n",
       "      <td>1.0</td>\n",
       "    </tr>\n",
       "    <tr>\n",
       "      <th>247</th>\n",
       "      <td>We should all have a fire safety plan. RT @Mat...</td>\n",
       "      <td>0.951333</td>\n",
       "      <td>0</td>\n",
       "      <td>1.0</td>\n",
       "    </tr>\n",
       "    <tr>\n",
       "      <th>157</th>\n",
       "      <td>Mourning notices for stabbing arson victims st...</td>\n",
       "      <td>0.947428</td>\n",
       "      <td>0</td>\n",
       "      <td>1.0</td>\n",
       "    </tr>\n",
       "    <tr>\n",
       "      <th>284</th>\n",
       "      <td>Two Jewish Terrorists Charged In Historic-Chur...</td>\n",
       "      <td>0.938744</td>\n",
       "      <td>0</td>\n",
       "      <td>1.0</td>\n",
       "    </tr>\n",
       "    <tr>\n",
       "      <th>137</th>\n",
       "      <td>FedEx will no longer transport bioterror patho...</td>\n",
       "      <td>0.933159</td>\n",
       "      <td>0</td>\n",
       "      <td>1.0</td>\n",
       "    </tr>\n",
       "  </tbody>\n",
       "</table>\n",
       "</div>"
      ],
      "text/plain": [
       "                                       wrong_sentences     probs  target  pred\n",
       "164  @adorableappple No reported flooding po in the...  0.973612       0   1.0\n",
       "247  We should all have a fire safety plan. RT @Mat...  0.951333       0   1.0\n",
       "157  Mourning notices for stabbing arson victims st...  0.947428       0   1.0\n",
       "284  Two Jewish Terrorists Charged In Historic-Chur...  0.938744       0   1.0\n",
       "137  FedEx will no longer transport bioterror patho...  0.933159       0   1.0"
      ]
     },
     "execution_count": 167,
     "metadata": {},
     "output_type": "execute_result"
    }
   ],
   "source": [
    "wrong_df.sort_values(\"probs\",ascending=False,inplace=True)\n",
    "wrong_df.head()"
   ]
  },
  {
   "cell_type": "code",
   "execution_count": 168,
   "id": "d19c8e38",
   "metadata": {},
   "outputs": [
    {
     "data": {
      "text/html": [
       "<div>\n",
       "<style scoped>\n",
       "    .dataframe tbody tr th:only-of-type {\n",
       "        vertical-align: middle;\n",
       "    }\n",
       "\n",
       "    .dataframe tbody tr th {\n",
       "        vertical-align: top;\n",
       "    }\n",
       "\n",
       "    .dataframe thead th {\n",
       "        text-align: right;\n",
       "    }\n",
       "</style>\n",
       "<table border=\"1\" class=\"dataframe\">\n",
       "  <thead>\n",
       "    <tr style=\"text-align: right;\">\n",
       "      <th></th>\n",
       "      <th>wrong_sentences</th>\n",
       "      <th>probs</th>\n",
       "      <th>target</th>\n",
       "      <th>pred</th>\n",
       "    </tr>\n",
       "  </thead>\n",
       "  <tbody>\n",
       "    <tr>\n",
       "      <th>179</th>\n",
       "      <td>'I did another one I did another one. You stil...</td>\n",
       "      <td>0.042020</td>\n",
       "      <td>1</td>\n",
       "      <td>0.0</td>\n",
       "    </tr>\n",
       "    <tr>\n",
       "      <th>9</th>\n",
       "      <td>Why are you deluged with low self-image? Take ...</td>\n",
       "      <td>0.035838</td>\n",
       "      <td>1</td>\n",
       "      <td>0.0</td>\n",
       "    </tr>\n",
       "    <tr>\n",
       "      <th>139</th>\n",
       "      <td>destroy the free fandom honestly</td>\n",
       "      <td>0.034921</td>\n",
       "      <td>1</td>\n",
       "      <td>0.0</td>\n",
       "    </tr>\n",
       "    <tr>\n",
       "      <th>45</th>\n",
       "      <td>Reddit Will Now QuarantineÛ_ http://t.co/pkUA...</td>\n",
       "      <td>0.032780</td>\n",
       "      <td>1</td>\n",
       "      <td>0.0</td>\n",
       "    </tr>\n",
       "    <tr>\n",
       "      <th>7</th>\n",
       "      <td>Ron &amp;amp; Fez - Dave's High School Crush https...</td>\n",
       "      <td>0.028860</td>\n",
       "      <td>1</td>\n",
       "      <td>0.0</td>\n",
       "    </tr>\n",
       "  </tbody>\n",
       "</table>\n",
       "</div>"
      ],
      "text/plain": [
       "                                       wrong_sentences     probs  target  pred\n",
       "179  'I did another one I did another one. You stil...  0.042020       1   0.0\n",
       "9    Why are you deluged with low self-image? Take ...  0.035838       1   0.0\n",
       "139                   destroy the free fandom honestly  0.034921       1   0.0\n",
       "45   Reddit Will Now QuarantineÛ_ http://t.co/pkUA...  0.032780       1   0.0\n",
       "7    Ron &amp; Fez - Dave's High School Crush https...  0.028860       1   0.0"
      ]
     },
     "execution_count": 168,
     "metadata": {},
     "output_type": "execute_result"
    }
   ],
   "source": [
    "wrong_df.tail()"
   ]
  },
  {
   "cell_type": "code",
   "execution_count": 169,
   "id": "cbbd4bae",
   "metadata": {},
   "outputs": [
    {
     "name": "stdout",
     "output_type": "stream",
     "text": [
      "SENTENCE: @adorableappple No reported flooding po in the area. Ten-4. #mmda\n",
      " TARGET: 0 PREDICTION: 1.0 PROBABILITY: 0.9736121296882629\n",
      "-------\n",
      "SENTENCE: We should all have a fire safety plan. RT @Matt_Kroschel: MOCK WILDFIRE near #Vail as agencies prepare for the worst. http://t.co/SWwyLRk0fv\n",
      " TARGET: 0 PREDICTION: 1.0 PROBABILITY: 0.951333224773407\n",
      "-------\n",
      "SENTENCE: Mourning notices for stabbing arson victims stir Û÷politics of griefÛª in Israel: Posters for Shira Banki and A... http://t.co/3GZ5zQQTHe\n",
      " TARGET: 0 PREDICTION: 1.0 PROBABILITY: 0.9474281072616577\n",
      "-------\n",
      "SENTENCE: Two Jewish Terrorists Charged In Historic-Church Arson | The Ugly Truth http://t.co/iEksNFSbY7 http://t.co/VWCf3slkrW\n",
      " TARGET: 0 PREDICTION: 1.0 PROBABILITY: 0.938744306564331\n",
      "-------\n",
      "SENTENCE: FedEx will no longer transport bioterror pathogens in wake of anthrax lab mishaps http://t.co/lHpgxc4b8J\n",
      " TARGET: 0 PREDICTION: 1.0 PROBABILITY: 0.9331591725349426\n",
      "-------\n",
      "SENTENCE: ? High Skies - Burning Buildings ? http://t.co/uVq41i3Kx2 #nowplaying\n",
      " TARGET: 0 PREDICTION: 1.0 PROBABILITY: 0.9263121485710144\n",
      "-------\n",
      "SENTENCE: the MOFO in DC will leave our military unarmed to be gunned down by terrorist &amp; a lot worseits not their sorry asses\n",
      " TARGET: 0 PREDICTION: 1.0 PROBABILITY: 0.924680769443512\n",
      "-------\n",
      "SENTENCE: Weapons stolen from National Guard Armory in New Albany still missing #Gunsense http://t.co/lKNU8902JE\n",
      " TARGET: 0 PREDICTION: 1.0 PROBABILITY: 0.9175154566764832\n",
      "-------\n",
      "SENTENCE: Aug. 5: The Fort Calhoun Nuclear Station is at 100% capacity today according to the NRC: http://t.co/pztbQImpuW\n",
      " TARGET: 0 PREDICTION: 1.0 PROBABILITY: 0.903791069984436\n",
      "-------\n",
      "SENTENCE: One thing you can be sure of. There will never be bush fires in Scotland as the ground is always soaking wet????\n",
      " TARGET: 0 PREDICTION: 1.0 PROBABILITY: 0.9014600515365601\n",
      "-------\n",
      "SENTENCE: Bloor/Ossington arsonist also burned a mattress on Northumberland St #cbcto http://t.co/wpDvT31sne\n",
      " TARGET: 0 PREDICTION: 1.0 PROBABILITY: 0.8964911699295044\n",
      "-------\n",
      "SENTENCE: December 2011 court dismissed the group charge of rape victims saying 'getting raped was an occupational hazard..!'\n",
      "\n",
      "US military = ISIS!\n",
      " TARGET: 0 PREDICTION: 1.0 PROBABILITY: 0.8749879002571106\n",
      "-------\n",
      "SENTENCE: @noah_anyname That's where the concentration camps and mass murder come in. \n",
      " \n",
      "EVERY. FUCKING. TIME.\n",
      " TARGET: 0 PREDICTION: 1.0 PROBABILITY: 0.8738462924957275\n",
      "-------\n",
      "SENTENCE: Fire hazard associated with installation of non-compliant external cladding on high-rise buildings - Insurance - Aust http://t.co/wFsEaOBATo\n",
      " TARGET: 0 PREDICTION: 1.0 PROBABILITY: 0.8708619475364685\n",
      "-------\n",
      "SENTENCE: Governor weighs parole for California school bus hijacker http://t.co/7NPBfRzEJL http://t.co/Y0kByy8nce\n",
      " TARGET: 0 PREDICTION: 1.0 PROBABILITY: 0.8648908138275146\n",
      "-------\n",
      "SENTENCE: http://t.co/eHKLp12yiP Paci?c Media Centre | articles: AUSTRALIA: RSF protests over new security gag over reporting on...\n",
      " TARGET: 0 PREDICTION: 1.0 PROBABILITY: 0.8642232418060303\n",
      "-------\n",
      "SENTENCE: FedEx no longer to transport bioterror germs in wake of anthrax lab mishaps http://t.co/qZQc8WWwcN via @usatoday\n",
      " TARGET: 0 PREDICTION: 1.0 PROBABILITY: 0.8609220385551453\n",
      "-------\n",
      "SENTENCE: A protest rally at Stone Mountain? Atleast they're not burning down buildings and looting store like some individuals do when they 'protest'\n",
      " TARGET: 0 PREDICTION: 1.0 PROBABILITY: 0.8545647859573364\n",
      "-------\n",
      "SENTENCE: @madonnamking RSPCA site multiple 7 story high rise buildings next to low density character residential in an area that floods\n",
      " TARGET: 0 PREDICTION: 1.0 PROBABILITY: 0.8534525632858276\n",
      "-------\n",
      "SENTENCE: @AshGhebranious civil rights continued in the 60s. And what about trans-generational trauma? if anything we should listen to the Americans.\n",
      " TARGET: 0 PREDICTION: 1.0 PROBABILITY: 0.8445464372634888\n",
      "-------\n"
     ]
    }
   ],
   "source": [
    "for row in wrong_df.head(20).itertuples():\n",
    "    _,sentence,probs,target,pred = row\n",
    "    print(f'SENTENCE: {sentence}\\n TARGET: {target} PREDICTION: {pred} PROBABILITY: {probs}')\n",
    "    print('-------')"
   ]
  },
  {
   "cell_type": "code",
   "execution_count": 170,
   "id": "ec64c9ef",
   "metadata": {},
   "outputs": [
    {
     "name": "stdout",
     "output_type": "stream",
     "text": [
      "SENTENCE: But if you build an army of 100 dogs and their leader is a lion all dogs will fight like a lion.\n",
      " TARGET: 1 PREDICTION: 0.0 PROBABILITY: 0.07493503391742706\n",
      "-------\n",
      "SENTENCE: Lucas Duda is Ghost Rider. Not the Nic Cage version but an actual 'engulfed in flames' badass. #Mets\n",
      " TARGET: 1 PREDICTION: 0.0 PROBABILITY: 0.07336622476577759\n",
      "-------\n",
      "SENTENCE: @DavidVonderhaar At least you were sincere ??\n",
      " TARGET: 1 PREDICTION: 0.0 PROBABILITY: 0.07292056083679199\n",
      "-------\n",
      "SENTENCE: @BoyInAHorsemask its a panda trapped in a dogs body\n",
      " TARGET: 1 PREDICTION: 0.0 PROBABILITY: 0.07274079322814941\n",
      "-------\n",
      "SENTENCE: VICTORINOX SWISS ARMY DATE WOMEN'S RUBBER MOP WATCH 241487 http://t.co/yFy3nkkcoH http://t.co/KNEhVvOHVK\n",
      " TARGET: 1 PREDICTION: 0.0 PROBABILITY: 0.06580393016338348\n",
      "-------\n",
      "SENTENCE: @Stretcher @witter @Rexyy @Towel show me a picture of it\n",
      " TARGET: 1 PREDICTION: 0.0 PROBABILITY: 0.06154360622167587\n",
      "-------\n",
      "SENTENCE: going to redo my nails and watch behind the scenes of desolation of smaug ayyy\n",
      " TARGET: 1 PREDICTION: 0.0 PROBABILITY: 0.05662894621491432\n",
      "-------\n",
      "SENTENCE: 4 equipment ego break upon dig your family internet hoke excepting versus a sinking term: dfLJEV\n",
      " TARGET: 1 PREDICTION: 0.0 PROBABILITY: 0.05646611005067825\n",
      "-------\n",
      "SENTENCE: #TheaterShooting DEFENDANT/MASS MURDERER CHOSE NOT 2 TESTIFY IN FINAL PHASE 3 so he won't therefore B subject 2 cross-exam or jury questions\n",
      " TARGET: 1 PREDICTION: 0.0 PROBABILITY: 0.05314331129193306\n",
      "-------\n",
      "SENTENCE: Reddit Will Now Quarantine Offensive Content http://t.co/LTmgdP6Jaf\n",
      " TARGET: 1 PREDICTION: 0.0 PROBABILITY: 0.05233951285481453\n",
      "-------\n",
      "SENTENCE: @SoonerMagic_ I mean I'm a fan but I don't need a girl sounding off like a damn siren\n",
      " TARGET: 1 PREDICTION: 0.0 PROBABILITY: 0.04714064672589302\n",
      "-------\n",
      "SENTENCE: @willienelson We need help! Horses will die!Please RT &amp; sign petition!Take a stand &amp; be a voice for them! #gilbert23 https://t.co/e8dl1lNCVu\n",
      " TARGET: 1 PREDICTION: 0.0 PROBABILITY: 0.046404946595430374\n",
      "-------\n",
      "SENTENCE: You can never escape me. Bullets don't harm me. Nothing harms me. But I know pain. I know pain. Sometimes I share it. With someone like you.\n",
      " TARGET: 1 PREDICTION: 0.0 PROBABILITY: 0.04463885352015495\n",
      "-------\n",
      "SENTENCE: the sunset boys wreck my bed   original 1979 usa gimp label  vinyl 7' 45  newave http://t.co/X0QLgwoyMT http://t.co/hQNx8qMeG3\n",
      " TARGET: 1 PREDICTION: 0.0 PROBABILITY: 0.042334217578172684\n",
      "-------\n",
      "SENTENCE: I get to smoke my shit in peace\n",
      " TARGET: 1 PREDICTION: 0.0 PROBABILITY: 0.04230518266558647\n",
      "-------\n",
      "SENTENCE: 'I did another one I did another one. You still ain't done shit about the other one.' Nigga body bagging Meek.\n",
      " TARGET: 1 PREDICTION: 0.0 PROBABILITY: 0.04202033206820488\n",
      "-------\n",
      "SENTENCE: Why are you deluged with low self-image? Take the quiz: http://t.co/XsPqdOrIqj http://t.co/CQYvFR4UCy\n",
      " TARGET: 1 PREDICTION: 0.0 PROBABILITY: 0.035837601870298386\n",
      "-------\n",
      "SENTENCE: destroy the free fandom honestly\n",
      " TARGET: 1 PREDICTION: 0.0 PROBABILITY: 0.034921061247587204\n",
      "-------\n",
      "SENTENCE: Reddit Will Now QuarantineÛ_ http://t.co/pkUAMXw6pm #onlinecommunities #reddit #amageddon #freespeech #Business http://t.co/PAWvNJ4sAP\n",
      " TARGET: 1 PREDICTION: 0.0 PROBABILITY: 0.03278035297989845\n",
      "-------\n",
      "SENTENCE: Ron &amp; Fez - Dave's High School Crush https://t.co/aN3W16c8F6 via @YouTube\n",
      " TARGET: 1 PREDICTION: 0.0 PROBABILITY: 0.02886005863547325\n",
      "-------\n"
     ]
    }
   ],
   "source": [
    "for row in wrong_df.tail(20).itertuples():\n",
    "    _,sentence,probs,target,pred = row\n",
    "    print(f'SENTENCE: {sentence}\\n TARGET: {target} PREDICTION: {pred} PROBABILITY: {probs}')\n",
    "    print('-------')"
   ]
  },
  {
   "cell_type": "markdown",
   "id": "bb866288",
   "metadata": {},
   "source": [
    "# MAKING PREDICTIONS ON THE TEST DATA SET"
   ]
  },
  {
   "cell_type": "code",
   "execution_count": 171,
   "id": "a14f4647",
   "metadata": {},
   "outputs": [
    {
     "data": {
      "text/html": [
       "<div>\n",
       "<style scoped>\n",
       "    .dataframe tbody tr th:only-of-type {\n",
       "        vertical-align: middle;\n",
       "    }\n",
       "\n",
       "    .dataframe tbody tr th {\n",
       "        vertical-align: top;\n",
       "    }\n",
       "\n",
       "    .dataframe thead th {\n",
       "        text-align: right;\n",
       "    }\n",
       "</style>\n",
       "<table border=\"1\" class=\"dataframe\">\n",
       "  <thead>\n",
       "    <tr style=\"text-align: right;\">\n",
       "      <th></th>\n",
       "      <th>id</th>\n",
       "      <th>keyword</th>\n",
       "      <th>location</th>\n",
       "      <th>text</th>\n",
       "    </tr>\n",
       "  </thead>\n",
       "  <tbody>\n",
       "    <tr>\n",
       "      <th>0</th>\n",
       "      <td>0</td>\n",
       "      <td>NaN</td>\n",
       "      <td>NaN</td>\n",
       "      <td>Just happened a terrible car crash</td>\n",
       "    </tr>\n",
       "    <tr>\n",
       "      <th>1</th>\n",
       "      <td>2</td>\n",
       "      <td>NaN</td>\n",
       "      <td>NaN</td>\n",
       "      <td>Heard about #earthquake is different cities, s...</td>\n",
       "    </tr>\n",
       "    <tr>\n",
       "      <th>2</th>\n",
       "      <td>3</td>\n",
       "      <td>NaN</td>\n",
       "      <td>NaN</td>\n",
       "      <td>there is a forest fire at spot pond, geese are...</td>\n",
       "    </tr>\n",
       "    <tr>\n",
       "      <th>3</th>\n",
       "      <td>9</td>\n",
       "      <td>NaN</td>\n",
       "      <td>NaN</td>\n",
       "      <td>Apocalypse lighting. #Spokane #wildfires</td>\n",
       "    </tr>\n",
       "    <tr>\n",
       "      <th>4</th>\n",
       "      <td>11</td>\n",
       "      <td>NaN</td>\n",
       "      <td>NaN</td>\n",
       "      <td>Typhoon Soudelor kills 28 in China and Taiwan</td>\n",
       "    </tr>\n",
       "  </tbody>\n",
       "</table>\n",
       "</div>"
      ],
      "text/plain": [
       "   id keyword location                                               text\n",
       "0   0     NaN      NaN                 Just happened a terrible car crash\n",
       "1   2     NaN      NaN  Heard about #earthquake is different cities, s...\n",
       "2   3     NaN      NaN  there is a forest fire at spot pond, geese are...\n",
       "3   9     NaN      NaN           Apocalypse lighting. #Spokane #wildfires\n",
       "4  11     NaN      NaN      Typhoon Soudelor kills 28 in China and Taiwan"
      ]
     },
     "execution_count": 171,
     "metadata": {},
     "output_type": "execute_result"
    }
   ],
   "source": [
    "dftest.head()"
   ]
  },
  {
   "cell_type": "code",
   "execution_count": 172,
   "id": "2b835e7e",
   "metadata": {},
   "outputs": [
    {
     "data": {
      "text/plain": [
       "array(['Just happened a terrible car crash',\n",
       "       'Heard about #earthquake is different cities, stay safe everyone.',\n",
       "       'there is a forest fire at spot pond, geese are fleeing across the street, I cannot save them all',\n",
       "       ..., 'Green Line derailment in Chicago http://t.co/UtbXLcBIuY',\n",
       "       'MEG issues Hazardous Weather Outlook (HWO) http://t.co/3X6RBQJHn3',\n",
       "       '#CityofCalgary has activated its Municipal Emergency Plan. #yycstorm'],\n",
       "      dtype=object)"
      ]
     },
     "execution_count": 172,
     "metadata": {},
     "output_type": "execute_result"
    }
   ],
   "source": [
    "test_sentences = dftest[\"text\"].to_numpy()\n",
    "test_sentences"
   ]
  },
  {
   "cell_type": "code",
   "execution_count": 178,
   "id": "9846d50f",
   "metadata": {},
   "outputs": [],
   "source": [
    "preds = model7.predict(test_sentences)\n",
    "final_preds = tf.round(tf.squeeze(preds)).numpy()\n",
    "preds = tf.squeeze(preds)"
   ]
  },
  {
   "cell_type": "code",
   "execution_count": 179,
   "id": "13ab659f",
   "metadata": {},
   "outputs": [
    {
     "data": {
      "text/html": [
       "<div>\n",
       "<style scoped>\n",
       "    .dataframe tbody tr th:only-of-type {\n",
       "        vertical-align: middle;\n",
       "    }\n",
       "\n",
       "    .dataframe tbody tr th {\n",
       "        vertical-align: top;\n",
       "    }\n",
       "\n",
       "    .dataframe thead th {\n",
       "        text-align: right;\n",
       "    }\n",
       "</style>\n",
       "<table border=\"1\" class=\"dataframe\">\n",
       "  <thead>\n",
       "    <tr style=\"text-align: right;\">\n",
       "      <th></th>\n",
       "      <th>sentences</th>\n",
       "      <th>probs</th>\n",
       "      <th>pred</th>\n",
       "    </tr>\n",
       "  </thead>\n",
       "  <tbody>\n",
       "    <tr>\n",
       "      <th>0</th>\n",
       "      <td>Just happened a terrible car crash</td>\n",
       "      <td>0.626300</td>\n",
       "      <td>1</td>\n",
       "    </tr>\n",
       "    <tr>\n",
       "      <th>1</th>\n",
       "      <td>Heard about #earthquake is different cities, s...</td>\n",
       "      <td>0.911694</td>\n",
       "      <td>1</td>\n",
       "    </tr>\n",
       "    <tr>\n",
       "      <th>2</th>\n",
       "      <td>there is a forest fire at spot pond, geese are...</td>\n",
       "      <td>0.841135</td>\n",
       "      <td>1</td>\n",
       "    </tr>\n",
       "    <tr>\n",
       "      <th>3</th>\n",
       "      <td>Apocalypse lighting. #Spokane #wildfires</td>\n",
       "      <td>0.934875</td>\n",
       "      <td>1</td>\n",
       "    </tr>\n",
       "    <tr>\n",
       "      <th>4</th>\n",
       "      <td>Typhoon Soudelor kills 28 in China and Taiwan</td>\n",
       "      <td>0.958895</td>\n",
       "      <td>1</td>\n",
       "    </tr>\n",
       "  </tbody>\n",
       "</table>\n",
       "</div>"
      ],
      "text/plain": [
       "                                           sentences     probs  pred\n",
       "0                 Just happened a terrible car crash  0.626300     1\n",
       "1  Heard about #earthquake is different cities, s...  0.911694     1\n",
       "2  there is a forest fire at spot pond, geese are...  0.841135     1\n",
       "3           Apocalypse lighting. #Spokane #wildfires  0.934875     1\n",
       "4      Typhoon Soudelor kills 28 in China and Taiwan  0.958895     1"
      ]
     },
     "execution_count": 179,
     "metadata": {},
     "output_type": "execute_result"
    }
   ],
   "source": [
    "dict = {'sentences':test_sentences,\n",
    "        'probs' : preds,\n",
    "        'pred' : final_preds.astype(int)}\n",
    "wrong_df = pd.DataFrame(dict)\n",
    "wrong_df.head()"
   ]
  },
  {
   "cell_type": "code",
   "execution_count": 175,
   "id": "29b4bce5",
   "metadata": {},
   "outputs": [
    {
     "name": "stdout",
     "output_type": "stream",
     "text": [
      "SENTENCE: incident with injury:I-495  inner loop Exit 31 - MD 97/Georgia Ave Silver Spring\n",
      " PREDICTION: 1.0 PROBABILITY: 0.8187378644943237\n",
      "-------\n",
      "SENTENCE: Supermarket chains recording worst #injury rates among ASX100 companies #safety http://t.co/njiv1n6rYr\n",
      " PREDICTION: 1.0 PROBABILITY: 0.5104009509086609\n",
      "-------\n",
      "SENTENCE: Ankle injury to keep SpursÛª Marjanovic out of Eurobasket http://t.co/UBCggEHqyN #spurs #NBA\n",
      " PREDICTION: 0.0 PROBABILITY: 0.11592276394367218\n",
      "-------\n",
      "SENTENCE: nflweek1picks: Michael Floyd's hand injury shouldn't devalue his fantasy stock: Michael Floyd's damaged digits won... Û_\n",
      " PREDICTION: 0.0 PROBABILITY: 0.08512269705533981\n",
      "-------\n",
      "SENTENCE: New post: Cowboys believe Lance Dunbar&amp;#039;s ankle injury not serious http://t.co/XMCRedFXAt\n",
      " PREDICTION: 0.0 PROBABILITY: 0.1456206887960434\n",
      "-------\n",
      "SENTENCE: @_keypsters full game? Injury cut is here https://t.co/YYqws4sO9J\n",
      " PREDICTION: 0.0 PROBABILITY: 0.18110528588294983\n",
      "-------\n",
      "SENTENCE: Enter the world of extreme diving ÛÓ 9 stories up and into the Volga River http://t.co/gptysALfKi\n",
      " PREDICTION: 0.0 PROBABILITY: 0.47801473736763\n",
      "-------\n",
      "SENTENCE: New post: Texans report: QB battle unaffected by Foster&amp;#039;s injury http://t.co/IgH2PAAHnK\n",
      " PREDICTION: 1.0 PROBABILITY: 0.620686948299408\n",
      "-------\n",
      "SENTENCE: Ben Heenan carted off the field at @Colts training camp.. No word on how serious the injury is #colts #nfl\n",
      " PREDICTION: 0.0 PROBABILITY: 0.18906018137931824\n",
      "-------\n"
     ]
    }
   ],
   "source": [
    "import random\n",
    "r = random.randint(0,len(test_sentences)-10)\n",
    "for row in wrong_df[r:r+9].itertuples():\n",
    "    _,sentence,probs,pred = row\n",
    "    print(f'SENTENCE: {sentence}\\n PREDICTION: {pred} PROBABILITY: {probs}')\n",
    "    print('-------')"
   ]
  },
  {
   "cell_type": "code",
   "execution_count": 188,
   "id": "271f1574",
   "metadata": {},
   "outputs": [],
   "source": [
    "dftest[\"target\"] = final_preds.astype(int)"
   ]
  },
  {
   "cell_type": "code",
   "execution_count": 189,
   "id": "0852b104",
   "metadata": {},
   "outputs": [
    {
     "data": {
      "text/html": [
       "<div>\n",
       "<style scoped>\n",
       "    .dataframe tbody tr th:only-of-type {\n",
       "        vertical-align: middle;\n",
       "    }\n",
       "\n",
       "    .dataframe tbody tr th {\n",
       "        vertical-align: top;\n",
       "    }\n",
       "\n",
       "    .dataframe thead th {\n",
       "        text-align: right;\n",
       "    }\n",
       "</style>\n",
       "<table border=\"1\" class=\"dataframe\">\n",
       "  <thead>\n",
       "    <tr style=\"text-align: right;\">\n",
       "      <th></th>\n",
       "      <th>id</th>\n",
       "      <th>keyword</th>\n",
       "      <th>location</th>\n",
       "      <th>text</th>\n",
       "      <th>preds</th>\n",
       "      <th>target</th>\n",
       "    </tr>\n",
       "  </thead>\n",
       "  <tbody>\n",
       "    <tr>\n",
       "      <th>0</th>\n",
       "      <td>0</td>\n",
       "      <td>NaN</td>\n",
       "      <td>NaN</td>\n",
       "      <td>Just happened a terrible car crash</td>\n",
       "      <td>1</td>\n",
       "      <td>1</td>\n",
       "    </tr>\n",
       "    <tr>\n",
       "      <th>1</th>\n",
       "      <td>2</td>\n",
       "      <td>NaN</td>\n",
       "      <td>NaN</td>\n",
       "      <td>Heard about #earthquake is different cities, s...</td>\n",
       "      <td>1</td>\n",
       "      <td>1</td>\n",
       "    </tr>\n",
       "    <tr>\n",
       "      <th>2</th>\n",
       "      <td>3</td>\n",
       "      <td>NaN</td>\n",
       "      <td>NaN</td>\n",
       "      <td>there is a forest fire at spot pond, geese are...</td>\n",
       "      <td>1</td>\n",
       "      <td>1</td>\n",
       "    </tr>\n",
       "    <tr>\n",
       "      <th>3</th>\n",
       "      <td>9</td>\n",
       "      <td>NaN</td>\n",
       "      <td>NaN</td>\n",
       "      <td>Apocalypse lighting. #Spokane #wildfires</td>\n",
       "      <td>1</td>\n",
       "      <td>1</td>\n",
       "    </tr>\n",
       "    <tr>\n",
       "      <th>4</th>\n",
       "      <td>11</td>\n",
       "      <td>NaN</td>\n",
       "      <td>NaN</td>\n",
       "      <td>Typhoon Soudelor kills 28 in China and Taiwan</td>\n",
       "      <td>1</td>\n",
       "      <td>1</td>\n",
       "    </tr>\n",
       "    <tr>\n",
       "      <th>...</th>\n",
       "      <td>...</td>\n",
       "      <td>...</td>\n",
       "      <td>...</td>\n",
       "      <td>...</td>\n",
       "      <td>...</td>\n",
       "      <td>...</td>\n",
       "    </tr>\n",
       "    <tr>\n",
       "      <th>3258</th>\n",
       "      <td>10861</td>\n",
       "      <td>NaN</td>\n",
       "      <td>NaN</td>\n",
       "      <td>EARTHQUAKE SAFETY LOS ANGELES ÛÒ SAFETY FASTE...</td>\n",
       "      <td>1</td>\n",
       "      <td>1</td>\n",
       "    </tr>\n",
       "    <tr>\n",
       "      <th>3259</th>\n",
       "      <td>10865</td>\n",
       "      <td>NaN</td>\n",
       "      <td>NaN</td>\n",
       "      <td>Storm in RI worse than last hurricane. My city...</td>\n",
       "      <td>1</td>\n",
       "      <td>1</td>\n",
       "    </tr>\n",
       "    <tr>\n",
       "      <th>3260</th>\n",
       "      <td>10868</td>\n",
       "      <td>NaN</td>\n",
       "      <td>NaN</td>\n",
       "      <td>Green Line derailment in Chicago http://t.co/U...</td>\n",
       "      <td>1</td>\n",
       "      <td>1</td>\n",
       "    </tr>\n",
       "    <tr>\n",
       "      <th>3261</th>\n",
       "      <td>10874</td>\n",
       "      <td>NaN</td>\n",
       "      <td>NaN</td>\n",
       "      <td>MEG issues Hazardous Weather Outlook (HWO) htt...</td>\n",
       "      <td>1</td>\n",
       "      <td>1</td>\n",
       "    </tr>\n",
       "    <tr>\n",
       "      <th>3262</th>\n",
       "      <td>10875</td>\n",
       "      <td>NaN</td>\n",
       "      <td>NaN</td>\n",
       "      <td>#CityofCalgary has activated its Municipal Eme...</td>\n",
       "      <td>1</td>\n",
       "      <td>1</td>\n",
       "    </tr>\n",
       "  </tbody>\n",
       "</table>\n",
       "<p>3263 rows × 6 columns</p>\n",
       "</div>"
      ],
      "text/plain": [
       "         id keyword location  \\\n",
       "0         0     NaN      NaN   \n",
       "1         2     NaN      NaN   \n",
       "2         3     NaN      NaN   \n",
       "3         9     NaN      NaN   \n",
       "4        11     NaN      NaN   \n",
       "...     ...     ...      ...   \n",
       "3258  10861     NaN      NaN   \n",
       "3259  10865     NaN      NaN   \n",
       "3260  10868     NaN      NaN   \n",
       "3261  10874     NaN      NaN   \n",
       "3262  10875     NaN      NaN   \n",
       "\n",
       "                                                   text  preds  target  \n",
       "0                    Just happened a terrible car crash      1       1  \n",
       "1     Heard about #earthquake is different cities, s...      1       1  \n",
       "2     there is a forest fire at spot pond, geese are...      1       1  \n",
       "3              Apocalypse lighting. #Spokane #wildfires      1       1  \n",
       "4         Typhoon Soudelor kills 28 in China and Taiwan      1       1  \n",
       "...                                                 ...    ...     ...  \n",
       "3258  EARTHQUAKE SAFETY LOS ANGELES ÛÒ SAFETY FASTE...      1       1  \n",
       "3259  Storm in RI worse than last hurricane. My city...      1       1  \n",
       "3260  Green Line derailment in Chicago http://t.co/U...      1       1  \n",
       "3261  MEG issues Hazardous Weather Outlook (HWO) htt...      1       1  \n",
       "3262  #CityofCalgary has activated its Municipal Eme...      1       1  \n",
       "\n",
       "[3263 rows x 6 columns]"
      ]
     },
     "execution_count": 189,
     "metadata": {},
     "output_type": "execute_result"
    }
   ],
   "source": [
    "dftest"
   ]
  },
  {
   "cell_type": "code",
   "execution_count": 190,
   "id": "e6739a54",
   "metadata": {},
   "outputs": [
    {
     "data": {
      "text/plain": [
       "0    1971\n",
       "1    1292\n",
       "Name: preds, dtype: int64"
      ]
     },
     "execution_count": 190,
     "metadata": {},
     "output_type": "execute_result"
    }
   ],
   "source": [
    "dftest[\"preds\"].value_counts()"
   ]
  },
  {
   "cell_type": "code",
   "execution_count": 191,
   "id": "c2e14926",
   "metadata": {},
   "outputs": [],
   "source": [
    "dfsubmission = dftest.drop(['keyword','location','text','preds'],axis=1)"
   ]
  },
  {
   "cell_type": "code",
   "execution_count": 192,
   "id": "17906e2f",
   "metadata": {},
   "outputs": [
    {
     "data": {
      "text/html": [
       "<div>\n",
       "<style scoped>\n",
       "    .dataframe tbody tr th:only-of-type {\n",
       "        vertical-align: middle;\n",
       "    }\n",
       "\n",
       "    .dataframe tbody tr th {\n",
       "        vertical-align: top;\n",
       "    }\n",
       "\n",
       "    .dataframe thead th {\n",
       "        text-align: right;\n",
       "    }\n",
       "</style>\n",
       "<table border=\"1\" class=\"dataframe\">\n",
       "  <thead>\n",
       "    <tr style=\"text-align: right;\">\n",
       "      <th></th>\n",
       "      <th>id</th>\n",
       "      <th>target</th>\n",
       "    </tr>\n",
       "  </thead>\n",
       "  <tbody>\n",
       "    <tr>\n",
       "      <th>0</th>\n",
       "      <td>0</td>\n",
       "      <td>1</td>\n",
       "    </tr>\n",
       "    <tr>\n",
       "      <th>1</th>\n",
       "      <td>2</td>\n",
       "      <td>1</td>\n",
       "    </tr>\n",
       "    <tr>\n",
       "      <th>2</th>\n",
       "      <td>3</td>\n",
       "      <td>1</td>\n",
       "    </tr>\n",
       "    <tr>\n",
       "      <th>3</th>\n",
       "      <td>9</td>\n",
       "      <td>1</td>\n",
       "    </tr>\n",
       "    <tr>\n",
       "      <th>4</th>\n",
       "      <td>11</td>\n",
       "      <td>1</td>\n",
       "    </tr>\n",
       "    <tr>\n",
       "      <th>...</th>\n",
       "      <td>...</td>\n",
       "      <td>...</td>\n",
       "    </tr>\n",
       "    <tr>\n",
       "      <th>3258</th>\n",
       "      <td>10861</td>\n",
       "      <td>1</td>\n",
       "    </tr>\n",
       "    <tr>\n",
       "      <th>3259</th>\n",
       "      <td>10865</td>\n",
       "      <td>1</td>\n",
       "    </tr>\n",
       "    <tr>\n",
       "      <th>3260</th>\n",
       "      <td>10868</td>\n",
       "      <td>1</td>\n",
       "    </tr>\n",
       "    <tr>\n",
       "      <th>3261</th>\n",
       "      <td>10874</td>\n",
       "      <td>1</td>\n",
       "    </tr>\n",
       "    <tr>\n",
       "      <th>3262</th>\n",
       "      <td>10875</td>\n",
       "      <td>1</td>\n",
       "    </tr>\n",
       "  </tbody>\n",
       "</table>\n",
       "<p>3263 rows × 2 columns</p>\n",
       "</div>"
      ],
      "text/plain": [
       "         id  target\n",
       "0         0       1\n",
       "1         2       1\n",
       "2         3       1\n",
       "3         9       1\n",
       "4        11       1\n",
       "...     ...     ...\n",
       "3258  10861       1\n",
       "3259  10865       1\n",
       "3260  10868       1\n",
       "3261  10874       1\n",
       "3262  10875       1\n",
       "\n",
       "[3263 rows x 2 columns]"
      ]
     },
     "execution_count": 192,
     "metadata": {},
     "output_type": "execute_result"
    }
   ],
   "source": [
    "dfsubmission"
   ]
  },
  {
   "cell_type": "code",
   "execution_count": 196,
   "id": "a5cd8294",
   "metadata": {},
   "outputs": [],
   "source": [
    "dfsubmission.to_csv(\"submission.csv\")"
   ]
  },
  {
   "cell_type": "markdown",
   "id": "12a6cb5f",
   "metadata": {},
   "source": [
    "# FINE TUNING MODEL 7"
   ]
  },
  {
   "cell_type": "code",
   "execution_count": 200,
   "id": "9da49447",
   "metadata": {},
   "outputs": [],
   "source": [
    "embed = hub.KerasLayer(\"C:\\\\Users\\\\Harshvardhan Bhosale\\\\OneDrive\\\\Desktop\\\\nlp\\\\universal-sentence-encoder_4.tar\",\n",
    "                      input_shape=[],\n",
    "                       dtype = tf.string,\n",
    "                      trainable = True)"
   ]
  },
  {
   "cell_type": "code",
   "execution_count": null,
   "id": "fe6abc99",
   "metadata": {},
   "outputs": [],
   "source": [
    "model7_ft = tf.keras.Sequential([\n",
    "    embed,\n",
    "    tf.keras.layers.Dense(1,activation=\"sigmoid\")\n",
    "])\n",
    "model7.summary()"
   ]
  },
  {
   "cell_type": "code",
   "execution_count": 206,
   "id": "2faf5cd6",
   "metadata": {},
   "outputs": [
    {
     "name": "stdout",
     "output_type": "stream",
     "text": [
      "0 keras_layer_1\n",
      "1 dense_11\n",
      "2 dense_12\n"
     ]
    }
   ],
   "source": [
    "for i,j in enumerate(model7_ft.layers):\n",
    "    print(i,j.name)"
   ]
  },
  {
   "cell_type": "code",
   "execution_count": 207,
   "id": "09dd8229",
   "metadata": {},
   "outputs": [],
   "source": [
    "model7_ft.compile(loss=\"binary_crossentropy\",optimizer = tf.keras.optimizers.Adam(),metrics=\"accuracy\")"
   ]
  },
  {
   "cell_type": "code",
   "execution_count": null,
   "id": "0b224bfc",
   "metadata": {},
   "outputs": [
    {
     "name": "stdout",
     "output_type": "stream",
     "text": [
      "Epoch 1/5\n"
     ]
    }
   ],
   "source": [
    "from helperfuncs import tensor_board_callback\n",
    "history7_ft = model7_ft.fit(train_sentences,train_labels,\n",
    "                     epochs = 5,\n",
    "                     validation_data = (valid_sentences,valid_labels),\n",
    "                     callbacks = [tensor_board_callback(\"C:\\\\Users\\\\Harshvardhan Bhosale\\\\OneDrive\\\\Desktop\\\\nlp\",\"model7_ft\")])"
   ]
  },
  {
   "cell_type": "code",
   "execution_count": null,
   "id": "3c21a070",
   "metadata": {},
   "outputs": [],
   "source": []
  },
  {
   "cell_type": "code",
   "execution_count": null,
   "id": "8b5a331c",
   "metadata": {},
   "outputs": [],
   "source": []
  },
  {
   "cell_type": "code",
   "execution_count": null,
   "id": "ec69b0f8",
   "metadata": {},
   "outputs": [],
   "source": []
  },
  {
   "cell_type": "code",
   "execution_count": null,
   "id": "98774ad2",
   "metadata": {},
   "outputs": [],
   "source": []
  },
  {
   "cell_type": "code",
   "execution_count": null,
   "id": "0eac31e6",
   "metadata": {},
   "outputs": [],
   "source": []
  },
  {
   "cell_type": "code",
   "execution_count": null,
   "id": "17cd79f4",
   "metadata": {},
   "outputs": [],
   "source": []
  },
  {
   "cell_type": "code",
   "execution_count": null,
   "id": "5c799ed2",
   "metadata": {},
   "outputs": [],
   "source": []
  }
 ],
 "metadata": {
  "kernelspec": {
   "display_name": "env",
   "language": "python",
   "name": "env"
  },
  "language_info": {
   "codemirror_mode": {
    "name": "ipython",
    "version": 3
   },
   "file_extension": ".py",
   "mimetype": "text/x-python",
   "name": "python",
   "nbconvert_exporter": "python",
   "pygments_lexer": "ipython3",
   "version": "3.9.0"
  }
 },
 "nbformat": 4,
 "nbformat_minor": 5
}
